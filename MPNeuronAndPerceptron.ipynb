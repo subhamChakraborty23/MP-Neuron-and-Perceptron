{
  "nbformat": 4,
  "nbformat_minor": 0,
  "metadata": {
    "colab": {
      "name": "MPNeuronAndPerceptron.ipynb",
      "provenance": [],
      "collapsed_sections": [
        "fT9sC0UKb12E",
        "HsV1gX3Ge-WC",
        "nNPjMZiwvwp6"
      ],
      "include_colab_link": true
    },
    "kernelspec": {
      "name": "python3",
      "display_name": "Python 3"
    }
  },
  "cells": [
    {
      "cell_type": "markdown",
      "metadata": {
        "id": "view-in-github",
        "colab_type": "text"
      },
      "source": [
        "<a href=\"https://colab.research.google.com/github/subhamChakraborty23/MP-Neuron-and-Perceptron/blob/master/MPNeuronAndPerceptron.ipynb\" target=\"_parent\"><img src=\"https://colab.research.google.com/assets/colab-badge.svg\" alt=\"Open In Colab\"/></a>"
      ]
    },
    {
      "cell_type": "code",
      "metadata": {
        "id": "Y62le--iNQ_g",
        "colab_type": "code",
        "colab": {}
      },
      "source": [
        "import sklearn.datasets\n",
        "import numpy as np"
      ],
      "execution_count": null,
      "outputs": []
    },
    {
      "cell_type": "markdown",
      "metadata": {
        "id": "AYxDp-YaUEEC",
        "colab_type": "text"
      },
      "source": [
        "# Loading dataset"
      ]
    },
    {
      "cell_type": "code",
      "metadata": {
        "id": "ClBCeOpjPvw3",
        "colab_type": "code",
        "colab": {}
      },
      "source": [
        "breast_cancer = sklearn.datasets.load_breast_cancer()"
      ],
      "execution_count": null,
      "outputs": []
    },
    {
      "cell_type": "code",
      "metadata": {
        "id": "vKGZCnP7P68V",
        "colab_type": "code",
        "colab": {}
      },
      "source": [
        "X = breast_cancer.data\n",
        "Y = breast_cancer.target"
      ],
      "execution_count": null,
      "outputs": []
    },
    {
      "cell_type": "code",
      "metadata": {
        "id": "9SMigpY8QCv5",
        "colab_type": "code",
        "colab": {
          "base_uri": "https://localhost:8080/",
          "height": 435
        },
        "outputId": "df7cc133-5d36-4255-a2ed-b42c511e84bb"
      },
      "source": [
        "print(X)\n",
        "print(Y)"
      ],
      "execution_count": null,
      "outputs": [
        {
          "output_type": "stream",
          "text": [
            "[[1.799e+01 1.038e+01 1.228e+02 ... 2.654e-01 4.601e-01 1.189e-01]\n",
            " [2.057e+01 1.777e+01 1.329e+02 ... 1.860e-01 2.750e-01 8.902e-02]\n",
            " [1.969e+01 2.125e+01 1.300e+02 ... 2.430e-01 3.613e-01 8.758e-02]\n",
            " ...\n",
            " [1.660e+01 2.808e+01 1.083e+02 ... 1.418e-01 2.218e-01 7.820e-02]\n",
            " [2.060e+01 2.933e+01 1.401e+02 ... 2.650e-01 4.087e-01 1.240e-01]\n",
            " [7.760e+00 2.454e+01 4.792e+01 ... 0.000e+00 2.871e-01 7.039e-02]]\n",
            "[0 0 0 0 0 0 0 0 0 0 0 0 0 0 0 0 0 0 0 1 1 1 0 0 0 0 0 0 0 0 0 0 0 0 0 0 0\n",
            " 1 0 0 0 0 0 0 0 0 1 0 1 1 1 1 1 0 0 1 0 0 1 1 1 1 0 1 0 0 1 1 1 1 0 1 0 0\n",
            " 1 0 1 0 0 1 1 1 0 0 1 0 0 0 1 1 1 0 1 1 0 0 1 1 1 0 0 1 1 1 1 0 1 1 0 1 1\n",
            " 1 1 1 1 1 1 0 0 0 1 0 0 1 1 1 0 0 1 0 1 0 0 1 0 0 1 1 0 1 1 0 1 1 1 1 0 1\n",
            " 1 1 1 1 1 1 1 1 0 1 1 1 1 0 0 1 0 1 1 0 0 1 1 0 0 1 1 1 1 0 1 1 0 0 0 1 0\n",
            " 1 0 1 1 1 0 1 1 0 0 1 0 0 0 0 1 0 0 0 1 0 1 0 1 1 0 1 0 0 0 0 1 1 0 0 1 1\n",
            " 1 0 1 1 1 1 1 0 0 1 1 0 1 1 0 0 1 0 1 1 1 1 0 1 1 1 1 1 0 1 0 0 0 0 0 0 0\n",
            " 0 0 0 0 0 0 0 1 1 1 1 1 1 0 1 0 1 1 0 1 1 0 1 0 0 1 1 1 1 1 1 1 1 1 1 1 1\n",
            " 1 0 1 1 0 1 0 1 1 1 1 1 1 1 1 1 1 1 1 1 1 0 1 1 1 0 1 0 1 1 1 1 0 0 0 1 1\n",
            " 1 1 0 1 0 1 0 1 1 1 0 1 1 1 1 1 1 1 0 0 0 1 1 1 1 1 1 1 1 1 1 1 0 0 1 0 0\n",
            " 0 1 0 0 1 1 1 1 1 0 1 1 1 1 1 0 1 1 1 0 1 1 0 0 1 1 1 1 1 1 0 1 1 1 1 1 1\n",
            " 1 0 1 1 1 1 1 0 1 1 0 1 1 1 1 1 1 1 1 1 1 1 1 0 1 0 0 1 0 1 1 1 1 1 0 1 1\n",
            " 0 1 0 1 1 0 1 0 1 1 1 1 1 1 1 1 0 0 1 1 1 1 1 1 0 1 1 1 1 1 1 1 1 1 1 0 1\n",
            " 1 1 1 1 1 1 0 1 0 1 1 0 1 1 1 1 1 0 0 1 0 1 0 1 1 1 1 1 0 1 1 0 1 0 1 0 0\n",
            " 1 1 1 0 1 1 1 1 1 1 1 1 1 1 1 0 1 0 0 1 1 1 1 1 1 1 1 1 1 1 1 1 1 1 1 1 1\n",
            " 1 1 1 1 1 1 1 0 0 0 0 0 0 1]\n"
          ],
          "name": "stdout"
        }
      ]
    },
    {
      "cell_type": "code",
      "metadata": {
        "id": "3iCYauzdQGdh",
        "colab_type": "code",
        "colab": {
          "base_uri": "https://localhost:8080/",
          "height": 35
        },
        "outputId": "661d44fa-fc6a-4337-9fed-4ef79a6be537"
      },
      "source": [
        "print(X.shape, Y.shape)"
      ],
      "execution_count": null,
      "outputs": [
        {
          "output_type": "stream",
          "text": [
            "(569, 30) (569,)\n"
          ],
          "name": "stdout"
        }
      ]
    },
    {
      "cell_type": "code",
      "metadata": {
        "id": "hCq2K5Z_QLv5",
        "colab_type": "code",
        "colab": {}
      },
      "source": [
        "import pandas as pd"
      ],
      "execution_count": null,
      "outputs": []
    },
    {
      "cell_type": "code",
      "metadata": {
        "id": "uqtmARD9QS_R",
        "colab_type": "code",
        "colab": {}
      },
      "source": [
        "data = pd.DataFrame(breast_cancer.data, columns=breast_cancer.feature_names)"
      ],
      "execution_count": null,
      "outputs": []
    },
    {
      "cell_type": "code",
      "metadata": {
        "id": "uoDddCZWQZvL",
        "colab_type": "code",
        "colab": {}
      },
      "source": [
        "data['class'] = breast_cancer.target"
      ],
      "execution_count": null,
      "outputs": []
    },
    {
      "cell_type": "code",
      "metadata": {
        "id": "o0rmnx3LQfUY",
        "colab_type": "code",
        "colab": {
          "base_uri": "https://localhost:8080/",
          "height": 282
        },
        "outputId": "271f2698-8f9f-460e-9e4f-919b93e22440"
      },
      "source": [
        "data.head()"
      ],
      "execution_count": null,
      "outputs": [
        {
          "output_type": "execute_result",
          "data": {
            "text/html": [
              "<div>\n",
              "<style scoped>\n",
              "    .dataframe tbody tr th:only-of-type {\n",
              "        vertical-align: middle;\n",
              "    }\n",
              "\n",
              "    .dataframe tbody tr th {\n",
              "        vertical-align: top;\n",
              "    }\n",
              "\n",
              "    .dataframe thead th {\n",
              "        text-align: right;\n",
              "    }\n",
              "</style>\n",
              "<table border=\"1\" class=\"dataframe\">\n",
              "  <thead>\n",
              "    <tr style=\"text-align: right;\">\n",
              "      <th></th>\n",
              "      <th>mean radius</th>\n",
              "      <th>mean texture</th>\n",
              "      <th>mean perimeter</th>\n",
              "      <th>mean area</th>\n",
              "      <th>mean smoothness</th>\n",
              "      <th>mean compactness</th>\n",
              "      <th>mean concavity</th>\n",
              "      <th>mean concave points</th>\n",
              "      <th>mean symmetry</th>\n",
              "      <th>mean fractal dimension</th>\n",
              "      <th>...</th>\n",
              "      <th>worst texture</th>\n",
              "      <th>worst perimeter</th>\n",
              "      <th>worst area</th>\n",
              "      <th>worst smoothness</th>\n",
              "      <th>worst compactness</th>\n",
              "      <th>worst concavity</th>\n",
              "      <th>worst concave points</th>\n",
              "      <th>worst symmetry</th>\n",
              "      <th>worst fractal dimension</th>\n",
              "      <th>class</th>\n",
              "    </tr>\n",
              "  </thead>\n",
              "  <tbody>\n",
              "    <tr>\n",
              "      <th>0</th>\n",
              "      <td>17.99</td>\n",
              "      <td>10.38</td>\n",
              "      <td>122.80</td>\n",
              "      <td>1001.0</td>\n",
              "      <td>0.11840</td>\n",
              "      <td>0.27760</td>\n",
              "      <td>0.3001</td>\n",
              "      <td>0.14710</td>\n",
              "      <td>0.2419</td>\n",
              "      <td>0.07871</td>\n",
              "      <td>...</td>\n",
              "      <td>17.33</td>\n",
              "      <td>184.60</td>\n",
              "      <td>2019.0</td>\n",
              "      <td>0.1622</td>\n",
              "      <td>0.6656</td>\n",
              "      <td>0.7119</td>\n",
              "      <td>0.2654</td>\n",
              "      <td>0.4601</td>\n",
              "      <td>0.11890</td>\n",
              "      <td>0</td>\n",
              "    </tr>\n",
              "    <tr>\n",
              "      <th>1</th>\n",
              "      <td>20.57</td>\n",
              "      <td>17.77</td>\n",
              "      <td>132.90</td>\n",
              "      <td>1326.0</td>\n",
              "      <td>0.08474</td>\n",
              "      <td>0.07864</td>\n",
              "      <td>0.0869</td>\n",
              "      <td>0.07017</td>\n",
              "      <td>0.1812</td>\n",
              "      <td>0.05667</td>\n",
              "      <td>...</td>\n",
              "      <td>23.41</td>\n",
              "      <td>158.80</td>\n",
              "      <td>1956.0</td>\n",
              "      <td>0.1238</td>\n",
              "      <td>0.1866</td>\n",
              "      <td>0.2416</td>\n",
              "      <td>0.1860</td>\n",
              "      <td>0.2750</td>\n",
              "      <td>0.08902</td>\n",
              "      <td>0</td>\n",
              "    </tr>\n",
              "    <tr>\n",
              "      <th>2</th>\n",
              "      <td>19.69</td>\n",
              "      <td>21.25</td>\n",
              "      <td>130.00</td>\n",
              "      <td>1203.0</td>\n",
              "      <td>0.10960</td>\n",
              "      <td>0.15990</td>\n",
              "      <td>0.1974</td>\n",
              "      <td>0.12790</td>\n",
              "      <td>0.2069</td>\n",
              "      <td>0.05999</td>\n",
              "      <td>...</td>\n",
              "      <td>25.53</td>\n",
              "      <td>152.50</td>\n",
              "      <td>1709.0</td>\n",
              "      <td>0.1444</td>\n",
              "      <td>0.4245</td>\n",
              "      <td>0.4504</td>\n",
              "      <td>0.2430</td>\n",
              "      <td>0.3613</td>\n",
              "      <td>0.08758</td>\n",
              "      <td>0</td>\n",
              "    </tr>\n",
              "    <tr>\n",
              "      <th>3</th>\n",
              "      <td>11.42</td>\n",
              "      <td>20.38</td>\n",
              "      <td>77.58</td>\n",
              "      <td>386.1</td>\n",
              "      <td>0.14250</td>\n",
              "      <td>0.28390</td>\n",
              "      <td>0.2414</td>\n",
              "      <td>0.10520</td>\n",
              "      <td>0.2597</td>\n",
              "      <td>0.09744</td>\n",
              "      <td>...</td>\n",
              "      <td>26.50</td>\n",
              "      <td>98.87</td>\n",
              "      <td>567.7</td>\n",
              "      <td>0.2098</td>\n",
              "      <td>0.8663</td>\n",
              "      <td>0.6869</td>\n",
              "      <td>0.2575</td>\n",
              "      <td>0.6638</td>\n",
              "      <td>0.17300</td>\n",
              "      <td>0</td>\n",
              "    </tr>\n",
              "    <tr>\n",
              "      <th>4</th>\n",
              "      <td>20.29</td>\n",
              "      <td>14.34</td>\n",
              "      <td>135.10</td>\n",
              "      <td>1297.0</td>\n",
              "      <td>0.10030</td>\n",
              "      <td>0.13280</td>\n",
              "      <td>0.1980</td>\n",
              "      <td>0.10430</td>\n",
              "      <td>0.1809</td>\n",
              "      <td>0.05883</td>\n",
              "      <td>...</td>\n",
              "      <td>16.67</td>\n",
              "      <td>152.20</td>\n",
              "      <td>1575.0</td>\n",
              "      <td>0.1374</td>\n",
              "      <td>0.2050</td>\n",
              "      <td>0.4000</td>\n",
              "      <td>0.1625</td>\n",
              "      <td>0.2364</td>\n",
              "      <td>0.07678</td>\n",
              "      <td>0</td>\n",
              "    </tr>\n",
              "  </tbody>\n",
              "</table>\n",
              "<p>5 rows × 31 columns</p>\n",
              "</div>"
            ],
            "text/plain": [
              "   mean radius  mean texture  mean perimeter  mean area  mean smoothness  \\\n",
              "0        17.99         10.38          122.80     1001.0          0.11840   \n",
              "1        20.57         17.77          132.90     1326.0          0.08474   \n",
              "2        19.69         21.25          130.00     1203.0          0.10960   \n",
              "3        11.42         20.38           77.58      386.1          0.14250   \n",
              "4        20.29         14.34          135.10     1297.0          0.10030   \n",
              "\n",
              "   mean compactness  mean concavity  mean concave points  mean symmetry  \\\n",
              "0           0.27760          0.3001              0.14710         0.2419   \n",
              "1           0.07864          0.0869              0.07017         0.1812   \n",
              "2           0.15990          0.1974              0.12790         0.2069   \n",
              "3           0.28390          0.2414              0.10520         0.2597   \n",
              "4           0.13280          0.1980              0.10430         0.1809   \n",
              "\n",
              "   mean fractal dimension  ...    worst texture  worst perimeter  worst area  \\\n",
              "0                 0.07871  ...            17.33           184.60      2019.0   \n",
              "1                 0.05667  ...            23.41           158.80      1956.0   \n",
              "2                 0.05999  ...            25.53           152.50      1709.0   \n",
              "3                 0.09744  ...            26.50            98.87       567.7   \n",
              "4                 0.05883  ...            16.67           152.20      1575.0   \n",
              "\n",
              "   worst smoothness  worst compactness  worst concavity  worst concave points  \\\n",
              "0            0.1622             0.6656           0.7119                0.2654   \n",
              "1            0.1238             0.1866           0.2416                0.1860   \n",
              "2            0.1444             0.4245           0.4504                0.2430   \n",
              "3            0.2098             0.8663           0.6869                0.2575   \n",
              "4            0.1374             0.2050           0.4000                0.1625   \n",
              "\n",
              "   worst symmetry  worst fractal dimension  class  \n",
              "0          0.4601                  0.11890      0  \n",
              "1          0.2750                  0.08902      0  \n",
              "2          0.3613                  0.08758      0  \n",
              "3          0.6638                  0.17300      0  \n",
              "4          0.2364                  0.07678      0  \n",
              "\n",
              "[5 rows x 31 columns]"
            ]
          },
          "metadata": {
            "tags": []
          },
          "execution_count": 9
        }
      ]
    },
    {
      "cell_type": "code",
      "metadata": {
        "id": "FV7of9G6QhRB",
        "colab_type": "code",
        "colab": {
          "base_uri": "https://localhost:8080/",
          "height": 372
        },
        "outputId": "9a5ca5a6-b1ca-4f75-803b-cce4243c4e04"
      },
      "source": [
        "data.describe()"
      ],
      "execution_count": null,
      "outputs": [
        {
          "output_type": "execute_result",
          "data": {
            "text/html": [
              "<div>\n",
              "<style scoped>\n",
              "    .dataframe tbody tr th:only-of-type {\n",
              "        vertical-align: middle;\n",
              "    }\n",
              "\n",
              "    .dataframe tbody tr th {\n",
              "        vertical-align: top;\n",
              "    }\n",
              "\n",
              "    .dataframe thead th {\n",
              "        text-align: right;\n",
              "    }\n",
              "</style>\n",
              "<table border=\"1\" class=\"dataframe\">\n",
              "  <thead>\n",
              "    <tr style=\"text-align: right;\">\n",
              "      <th></th>\n",
              "      <th>mean radius</th>\n",
              "      <th>mean texture</th>\n",
              "      <th>mean perimeter</th>\n",
              "      <th>mean area</th>\n",
              "      <th>mean smoothness</th>\n",
              "      <th>mean compactness</th>\n",
              "      <th>mean concavity</th>\n",
              "      <th>mean concave points</th>\n",
              "      <th>mean symmetry</th>\n",
              "      <th>mean fractal dimension</th>\n",
              "      <th>...</th>\n",
              "      <th>worst texture</th>\n",
              "      <th>worst perimeter</th>\n",
              "      <th>worst area</th>\n",
              "      <th>worst smoothness</th>\n",
              "      <th>worst compactness</th>\n",
              "      <th>worst concavity</th>\n",
              "      <th>worst concave points</th>\n",
              "      <th>worst symmetry</th>\n",
              "      <th>worst fractal dimension</th>\n",
              "      <th>class</th>\n",
              "    </tr>\n",
              "  </thead>\n",
              "  <tbody>\n",
              "    <tr>\n",
              "      <th>count</th>\n",
              "      <td>569.000000</td>\n",
              "      <td>569.000000</td>\n",
              "      <td>569.000000</td>\n",
              "      <td>569.000000</td>\n",
              "      <td>569.000000</td>\n",
              "      <td>569.000000</td>\n",
              "      <td>569.000000</td>\n",
              "      <td>569.000000</td>\n",
              "      <td>569.000000</td>\n",
              "      <td>569.000000</td>\n",
              "      <td>...</td>\n",
              "      <td>569.000000</td>\n",
              "      <td>569.000000</td>\n",
              "      <td>569.000000</td>\n",
              "      <td>569.000000</td>\n",
              "      <td>569.000000</td>\n",
              "      <td>569.000000</td>\n",
              "      <td>569.000000</td>\n",
              "      <td>569.000000</td>\n",
              "      <td>569.000000</td>\n",
              "      <td>569.000000</td>\n",
              "    </tr>\n",
              "    <tr>\n",
              "      <th>mean</th>\n",
              "      <td>14.127292</td>\n",
              "      <td>19.289649</td>\n",
              "      <td>91.969033</td>\n",
              "      <td>654.889104</td>\n",
              "      <td>0.096360</td>\n",
              "      <td>0.104341</td>\n",
              "      <td>0.088799</td>\n",
              "      <td>0.048919</td>\n",
              "      <td>0.181162</td>\n",
              "      <td>0.062798</td>\n",
              "      <td>...</td>\n",
              "      <td>25.677223</td>\n",
              "      <td>107.261213</td>\n",
              "      <td>880.583128</td>\n",
              "      <td>0.132369</td>\n",
              "      <td>0.254265</td>\n",
              "      <td>0.272188</td>\n",
              "      <td>0.114606</td>\n",
              "      <td>0.290076</td>\n",
              "      <td>0.083946</td>\n",
              "      <td>0.627417</td>\n",
              "    </tr>\n",
              "    <tr>\n",
              "      <th>std</th>\n",
              "      <td>3.524049</td>\n",
              "      <td>4.301036</td>\n",
              "      <td>24.298981</td>\n",
              "      <td>351.914129</td>\n",
              "      <td>0.014064</td>\n",
              "      <td>0.052813</td>\n",
              "      <td>0.079720</td>\n",
              "      <td>0.038803</td>\n",
              "      <td>0.027414</td>\n",
              "      <td>0.007060</td>\n",
              "      <td>...</td>\n",
              "      <td>6.146258</td>\n",
              "      <td>33.602542</td>\n",
              "      <td>569.356993</td>\n",
              "      <td>0.022832</td>\n",
              "      <td>0.157336</td>\n",
              "      <td>0.208624</td>\n",
              "      <td>0.065732</td>\n",
              "      <td>0.061867</td>\n",
              "      <td>0.018061</td>\n",
              "      <td>0.483918</td>\n",
              "    </tr>\n",
              "    <tr>\n",
              "      <th>min</th>\n",
              "      <td>6.981000</td>\n",
              "      <td>9.710000</td>\n",
              "      <td>43.790000</td>\n",
              "      <td>143.500000</td>\n",
              "      <td>0.052630</td>\n",
              "      <td>0.019380</td>\n",
              "      <td>0.000000</td>\n",
              "      <td>0.000000</td>\n",
              "      <td>0.106000</td>\n",
              "      <td>0.049960</td>\n",
              "      <td>...</td>\n",
              "      <td>12.020000</td>\n",
              "      <td>50.410000</td>\n",
              "      <td>185.200000</td>\n",
              "      <td>0.071170</td>\n",
              "      <td>0.027290</td>\n",
              "      <td>0.000000</td>\n",
              "      <td>0.000000</td>\n",
              "      <td>0.156500</td>\n",
              "      <td>0.055040</td>\n",
              "      <td>0.000000</td>\n",
              "    </tr>\n",
              "    <tr>\n",
              "      <th>25%</th>\n",
              "      <td>11.700000</td>\n",
              "      <td>16.170000</td>\n",
              "      <td>75.170000</td>\n",
              "      <td>420.300000</td>\n",
              "      <td>0.086370</td>\n",
              "      <td>0.064920</td>\n",
              "      <td>0.029560</td>\n",
              "      <td>0.020310</td>\n",
              "      <td>0.161900</td>\n",
              "      <td>0.057700</td>\n",
              "      <td>...</td>\n",
              "      <td>21.080000</td>\n",
              "      <td>84.110000</td>\n",
              "      <td>515.300000</td>\n",
              "      <td>0.116600</td>\n",
              "      <td>0.147200</td>\n",
              "      <td>0.114500</td>\n",
              "      <td>0.064930</td>\n",
              "      <td>0.250400</td>\n",
              "      <td>0.071460</td>\n",
              "      <td>0.000000</td>\n",
              "    </tr>\n",
              "    <tr>\n",
              "      <th>50%</th>\n",
              "      <td>13.370000</td>\n",
              "      <td>18.840000</td>\n",
              "      <td>86.240000</td>\n",
              "      <td>551.100000</td>\n",
              "      <td>0.095870</td>\n",
              "      <td>0.092630</td>\n",
              "      <td>0.061540</td>\n",
              "      <td>0.033500</td>\n",
              "      <td>0.179200</td>\n",
              "      <td>0.061540</td>\n",
              "      <td>...</td>\n",
              "      <td>25.410000</td>\n",
              "      <td>97.660000</td>\n",
              "      <td>686.500000</td>\n",
              "      <td>0.131300</td>\n",
              "      <td>0.211900</td>\n",
              "      <td>0.226700</td>\n",
              "      <td>0.099930</td>\n",
              "      <td>0.282200</td>\n",
              "      <td>0.080040</td>\n",
              "      <td>1.000000</td>\n",
              "    </tr>\n",
              "    <tr>\n",
              "      <th>75%</th>\n",
              "      <td>15.780000</td>\n",
              "      <td>21.800000</td>\n",
              "      <td>104.100000</td>\n",
              "      <td>782.700000</td>\n",
              "      <td>0.105300</td>\n",
              "      <td>0.130400</td>\n",
              "      <td>0.130700</td>\n",
              "      <td>0.074000</td>\n",
              "      <td>0.195700</td>\n",
              "      <td>0.066120</td>\n",
              "      <td>...</td>\n",
              "      <td>29.720000</td>\n",
              "      <td>125.400000</td>\n",
              "      <td>1084.000000</td>\n",
              "      <td>0.146000</td>\n",
              "      <td>0.339100</td>\n",
              "      <td>0.382900</td>\n",
              "      <td>0.161400</td>\n",
              "      <td>0.317900</td>\n",
              "      <td>0.092080</td>\n",
              "      <td>1.000000</td>\n",
              "    </tr>\n",
              "    <tr>\n",
              "      <th>max</th>\n",
              "      <td>28.110000</td>\n",
              "      <td>39.280000</td>\n",
              "      <td>188.500000</td>\n",
              "      <td>2501.000000</td>\n",
              "      <td>0.163400</td>\n",
              "      <td>0.345400</td>\n",
              "      <td>0.426800</td>\n",
              "      <td>0.201200</td>\n",
              "      <td>0.304000</td>\n",
              "      <td>0.097440</td>\n",
              "      <td>...</td>\n",
              "      <td>49.540000</td>\n",
              "      <td>251.200000</td>\n",
              "      <td>4254.000000</td>\n",
              "      <td>0.222600</td>\n",
              "      <td>1.058000</td>\n",
              "      <td>1.252000</td>\n",
              "      <td>0.291000</td>\n",
              "      <td>0.663800</td>\n",
              "      <td>0.207500</td>\n",
              "      <td>1.000000</td>\n",
              "    </tr>\n",
              "  </tbody>\n",
              "</table>\n",
              "<p>8 rows × 31 columns</p>\n",
              "</div>"
            ],
            "text/plain": [
              "       mean radius  mean texture  mean perimeter    mean area  \\\n",
              "count   569.000000    569.000000      569.000000   569.000000   \n",
              "mean     14.127292     19.289649       91.969033   654.889104   \n",
              "std       3.524049      4.301036       24.298981   351.914129   \n",
              "min       6.981000      9.710000       43.790000   143.500000   \n",
              "25%      11.700000     16.170000       75.170000   420.300000   \n",
              "50%      13.370000     18.840000       86.240000   551.100000   \n",
              "75%      15.780000     21.800000      104.100000   782.700000   \n",
              "max      28.110000     39.280000      188.500000  2501.000000   \n",
              "\n",
              "       mean smoothness  mean compactness  mean concavity  mean concave points  \\\n",
              "count       569.000000        569.000000      569.000000           569.000000   \n",
              "mean          0.096360          0.104341        0.088799             0.048919   \n",
              "std           0.014064          0.052813        0.079720             0.038803   \n",
              "min           0.052630          0.019380        0.000000             0.000000   \n",
              "25%           0.086370          0.064920        0.029560             0.020310   \n",
              "50%           0.095870          0.092630        0.061540             0.033500   \n",
              "75%           0.105300          0.130400        0.130700             0.074000   \n",
              "max           0.163400          0.345400        0.426800             0.201200   \n",
              "\n",
              "       mean symmetry  mean fractal dimension     ...      worst texture  \\\n",
              "count     569.000000              569.000000     ...         569.000000   \n",
              "mean        0.181162                0.062798     ...          25.677223   \n",
              "std         0.027414                0.007060     ...           6.146258   \n",
              "min         0.106000                0.049960     ...          12.020000   \n",
              "25%         0.161900                0.057700     ...          21.080000   \n",
              "50%         0.179200                0.061540     ...          25.410000   \n",
              "75%         0.195700                0.066120     ...          29.720000   \n",
              "max         0.304000                0.097440     ...          49.540000   \n",
              "\n",
              "       worst perimeter   worst area  worst smoothness  worst compactness  \\\n",
              "count       569.000000   569.000000        569.000000         569.000000   \n",
              "mean        107.261213   880.583128          0.132369           0.254265   \n",
              "std          33.602542   569.356993          0.022832           0.157336   \n",
              "min          50.410000   185.200000          0.071170           0.027290   \n",
              "25%          84.110000   515.300000          0.116600           0.147200   \n",
              "50%          97.660000   686.500000          0.131300           0.211900   \n",
              "75%         125.400000  1084.000000          0.146000           0.339100   \n",
              "max         251.200000  4254.000000          0.222600           1.058000   \n",
              "\n",
              "       worst concavity  worst concave points  worst symmetry  \\\n",
              "count       569.000000            569.000000      569.000000   \n",
              "mean          0.272188              0.114606        0.290076   \n",
              "std           0.208624              0.065732        0.061867   \n",
              "min           0.000000              0.000000        0.156500   \n",
              "25%           0.114500              0.064930        0.250400   \n",
              "50%           0.226700              0.099930        0.282200   \n",
              "75%           0.382900              0.161400        0.317900   \n",
              "max           1.252000              0.291000        0.663800   \n",
              "\n",
              "       worst fractal dimension       class  \n",
              "count               569.000000  569.000000  \n",
              "mean                  0.083946    0.627417  \n",
              "std                   0.018061    0.483918  \n",
              "min                   0.055040    0.000000  \n",
              "25%                   0.071460    0.000000  \n",
              "50%                   0.080040    1.000000  \n",
              "75%                   0.092080    1.000000  \n",
              "max                   0.207500    1.000000  \n",
              "\n",
              "[8 rows x 31 columns]"
            ]
          },
          "metadata": {
            "tags": []
          },
          "execution_count": 10
        }
      ]
    },
    {
      "cell_type": "code",
      "metadata": {
        "id": "w-jZOBG6QqyG",
        "colab_type": "code",
        "colab": {
          "base_uri": "https://localhost:8080/",
          "height": 72
        },
        "outputId": "934acca9-ca4f-4b04-bd94-2a7089d59ccf"
      },
      "source": [
        "print(data['class'].value_counts())"
      ],
      "execution_count": null,
      "outputs": [
        {
          "output_type": "stream",
          "text": [
            "1    357\n",
            "0    212\n",
            "Name: class, dtype: int64\n"
          ],
          "name": "stdout"
        }
      ]
    },
    {
      "cell_type": "code",
      "metadata": {
        "id": "0bhbds5iQz7p",
        "colab_type": "code",
        "colab": {
          "base_uri": "https://localhost:8080/",
          "height": 35
        },
        "outputId": "8145e67a-3cfe-4afe-c4b5-d1b953f910fd"
      },
      "source": [
        "print(breast_cancer.target_names)"
      ],
      "execution_count": null,
      "outputs": [
        {
          "output_type": "stream",
          "text": [
            "['malignant' 'benign']\n"
          ],
          "name": "stdout"
        }
      ]
    },
    {
      "cell_type": "code",
      "metadata": {
        "id": "Nvgmi3LeQ47D",
        "colab_type": "code",
        "colab": {
          "base_uri": "https://localhost:8080/",
          "height": 222
        },
        "outputId": "c9ad607b-199a-422b-b80f-bcaa1f066b17"
      },
      "source": [
        "data.groupby('class').mean()"
      ],
      "execution_count": null,
      "outputs": [
        {
          "output_type": "execute_result",
          "data": {
            "text/html": [
              "<div>\n",
              "<style scoped>\n",
              "    .dataframe tbody tr th:only-of-type {\n",
              "        vertical-align: middle;\n",
              "    }\n",
              "\n",
              "    .dataframe tbody tr th {\n",
              "        vertical-align: top;\n",
              "    }\n",
              "\n",
              "    .dataframe thead th {\n",
              "        text-align: right;\n",
              "    }\n",
              "</style>\n",
              "<table border=\"1\" class=\"dataframe\">\n",
              "  <thead>\n",
              "    <tr style=\"text-align: right;\">\n",
              "      <th></th>\n",
              "      <th>mean radius</th>\n",
              "      <th>mean texture</th>\n",
              "      <th>mean perimeter</th>\n",
              "      <th>mean area</th>\n",
              "      <th>mean smoothness</th>\n",
              "      <th>mean compactness</th>\n",
              "      <th>mean concavity</th>\n",
              "      <th>mean concave points</th>\n",
              "      <th>mean symmetry</th>\n",
              "      <th>mean fractal dimension</th>\n",
              "      <th>...</th>\n",
              "      <th>worst radius</th>\n",
              "      <th>worst texture</th>\n",
              "      <th>worst perimeter</th>\n",
              "      <th>worst area</th>\n",
              "      <th>worst smoothness</th>\n",
              "      <th>worst compactness</th>\n",
              "      <th>worst concavity</th>\n",
              "      <th>worst concave points</th>\n",
              "      <th>worst symmetry</th>\n",
              "      <th>worst fractal dimension</th>\n",
              "    </tr>\n",
              "    <tr>\n",
              "      <th>class</th>\n",
              "      <th></th>\n",
              "      <th></th>\n",
              "      <th></th>\n",
              "      <th></th>\n",
              "      <th></th>\n",
              "      <th></th>\n",
              "      <th></th>\n",
              "      <th></th>\n",
              "      <th></th>\n",
              "      <th></th>\n",
              "      <th></th>\n",
              "      <th></th>\n",
              "      <th></th>\n",
              "      <th></th>\n",
              "      <th></th>\n",
              "      <th></th>\n",
              "      <th></th>\n",
              "      <th></th>\n",
              "      <th></th>\n",
              "      <th></th>\n",
              "      <th></th>\n",
              "    </tr>\n",
              "  </thead>\n",
              "  <tbody>\n",
              "    <tr>\n",
              "      <th>0</th>\n",
              "      <td>17.462830</td>\n",
              "      <td>21.604906</td>\n",
              "      <td>115.365377</td>\n",
              "      <td>978.376415</td>\n",
              "      <td>0.102898</td>\n",
              "      <td>0.145188</td>\n",
              "      <td>0.160775</td>\n",
              "      <td>0.087990</td>\n",
              "      <td>0.192909</td>\n",
              "      <td>0.062680</td>\n",
              "      <td>...</td>\n",
              "      <td>21.134811</td>\n",
              "      <td>29.318208</td>\n",
              "      <td>141.370330</td>\n",
              "      <td>1422.286321</td>\n",
              "      <td>0.144845</td>\n",
              "      <td>0.374824</td>\n",
              "      <td>0.450606</td>\n",
              "      <td>0.182237</td>\n",
              "      <td>0.323468</td>\n",
              "      <td>0.091530</td>\n",
              "    </tr>\n",
              "    <tr>\n",
              "      <th>1</th>\n",
              "      <td>12.146524</td>\n",
              "      <td>17.914762</td>\n",
              "      <td>78.075406</td>\n",
              "      <td>462.790196</td>\n",
              "      <td>0.092478</td>\n",
              "      <td>0.080085</td>\n",
              "      <td>0.046058</td>\n",
              "      <td>0.025717</td>\n",
              "      <td>0.174186</td>\n",
              "      <td>0.062867</td>\n",
              "      <td>...</td>\n",
              "      <td>13.379801</td>\n",
              "      <td>23.515070</td>\n",
              "      <td>87.005938</td>\n",
              "      <td>558.899440</td>\n",
              "      <td>0.124959</td>\n",
              "      <td>0.182673</td>\n",
              "      <td>0.166238</td>\n",
              "      <td>0.074444</td>\n",
              "      <td>0.270246</td>\n",
              "      <td>0.079442</td>\n",
              "    </tr>\n",
              "  </tbody>\n",
              "</table>\n",
              "<p>2 rows × 30 columns</p>\n",
              "</div>"
            ],
            "text/plain": [
              "       mean radius  mean texture  mean perimeter   mean area  mean smoothness  \\\n",
              "class                                                                           \n",
              "0        17.462830     21.604906      115.365377  978.376415         0.102898   \n",
              "1        12.146524     17.914762       78.075406  462.790196         0.092478   \n",
              "\n",
              "       mean compactness  mean concavity  mean concave points  mean symmetry  \\\n",
              "class                                                                         \n",
              "0              0.145188        0.160775             0.087990       0.192909   \n",
              "1              0.080085        0.046058             0.025717       0.174186   \n",
              "\n",
              "       mean fractal dimension           ...             worst radius  \\\n",
              "class                                   ...                            \n",
              "0                    0.062680           ...                21.134811   \n",
              "1                    0.062867           ...                13.379801   \n",
              "\n",
              "       worst texture  worst perimeter   worst area  worst smoothness  \\\n",
              "class                                                                  \n",
              "0          29.318208       141.370330  1422.286321          0.144845   \n",
              "1          23.515070        87.005938   558.899440          0.124959   \n",
              "\n",
              "       worst compactness  worst concavity  worst concave points  \\\n",
              "class                                                             \n",
              "0               0.374824         0.450606              0.182237   \n",
              "1               0.182673         0.166238              0.074444   \n",
              "\n",
              "       worst symmetry  worst fractal dimension  \n",
              "class                                           \n",
              "0            0.323468                 0.091530  \n",
              "1            0.270246                 0.079442  \n",
              "\n",
              "[2 rows x 30 columns]"
            ]
          },
          "metadata": {
            "tags": []
          },
          "execution_count": 13
        }
      ]
    },
    {
      "cell_type": "markdown",
      "metadata": {
        "id": "TQOa8tuKWmEx",
        "colab_type": "text"
      },
      "source": [
        "# Train test split"
      ]
    },
    {
      "cell_type": "code",
      "metadata": {
        "id": "7OOt-sSaWnVZ",
        "colab_type": "code",
        "colab": {}
      },
      "source": [
        "from sklearn.model_selection import train_test_split"
      ],
      "execution_count": null,
      "outputs": []
    },
    {
      "cell_type": "code",
      "metadata": {
        "id": "b4MW2HlzXLQe",
        "colab_type": "code",
        "colab": {}
      },
      "source": [
        "X = data.drop('class', axis=1)\n",
        "Y = data['class']"
      ],
      "execution_count": null,
      "outputs": []
    },
    {
      "cell_type": "code",
      "metadata": {
        "id": "gDrEsZiMXXEs",
        "colab_type": "code",
        "colab": {
          "base_uri": "https://localhost:8080/",
          "height": 35
        },
        "outputId": "928178a4-c536-4115-ee47-41777c61c83f"
      },
      "source": [
        "type(X)"
      ],
      "execution_count": null,
      "outputs": [
        {
          "output_type": "execute_result",
          "data": {
            "text/plain": [
              "pandas.core.frame.DataFrame"
            ]
          },
          "metadata": {
            "tags": []
          },
          "execution_count": 16
        }
      ]
    },
    {
      "cell_type": "code",
      "metadata": {
        "id": "rLY0MMINXXyl",
        "colab_type": "code",
        "colab": {}
      },
      "source": [
        "X_train, X_test, Y_train, Y_test = train_test_split(X, Y)"
      ],
      "execution_count": null,
      "outputs": []
    },
    {
      "cell_type": "code",
      "metadata": {
        "id": "K3mRpxH2XfNC",
        "colab_type": "code",
        "colab": {
          "base_uri": "https://localhost:8080/",
          "height": 35
        },
        "outputId": "a3275eff-30c6-40d5-b87a-d22fda03af71"
      },
      "source": [
        "print(Y.shape, Y_train.shape, Y_test.shape)"
      ],
      "execution_count": null,
      "outputs": [
        {
          "output_type": "stream",
          "text": [
            "(569,) (426,) (143,)\n"
          ],
          "name": "stdout"
        }
      ]
    },
    {
      "cell_type": "code",
      "metadata": {
        "id": "IaVrRpmTXiso",
        "colab_type": "code",
        "colab": {}
      },
      "source": [
        "X_train, X_test, Y_train, Y_test = train_test_split(X, Y, test_size=0.1)"
      ],
      "execution_count": null,
      "outputs": []
    },
    {
      "cell_type": "code",
      "metadata": {
        "id": "f4Obcq42XwSF",
        "colab_type": "code",
        "colab": {
          "base_uri": "https://localhost:8080/",
          "height": 35
        },
        "outputId": "1980bf1e-5aaa-42d8-bdf3-76d47c4a87c8"
      },
      "source": [
        "print(Y.mean(), Y_train.mean(), Y_test.mean())"
      ],
      "execution_count": null,
      "outputs": [
        {
          "output_type": "stream",
          "text": [
            "0.6274165202108963 0.62890625 0.6140350877192983\n"
          ],
          "name": "stdout"
        }
      ]
    },
    {
      "cell_type": "code",
      "metadata": {
        "id": "aCzE4vW1X9DI",
        "colab_type": "code",
        "colab": {}
      },
      "source": [
        "X_train, X_test, Y_train, Y_test = train_test_split(X, Y, test_size=0.1, stratify = Y)"
      ],
      "execution_count": null,
      "outputs": []
    },
    {
      "cell_type": "code",
      "metadata": {
        "id": "G6S8TEOKYMAp",
        "colab_type": "code",
        "colab": {
          "base_uri": "https://localhost:8080/",
          "height": 1672
        },
        "outputId": "2b0e1770-65a0-4150-9c96-1fb2129f8436"
      },
      "source": [
        "print(X_train.mean(), X_test.mean(), X.mean())"
      ],
      "execution_count": null,
      "outputs": [
        {
          "output_type": "stream",
          "text": [
            "mean radius                 14.124678\n",
            "mean texture                19.245781\n",
            "mean perimeter              92.001289\n",
            "mean area                  654.076562\n",
            "mean smoothness              0.096788\n",
            "mean compactness             0.105647\n",
            "mean concavity               0.089818\n",
            "mean concave points          0.049220\n",
            "mean symmetry                0.181860\n",
            "mean fractal dimension       0.062938\n",
            "radius error                 0.401045\n",
            "texture error                1.211642\n",
            "perimeter error              2.837641\n",
            "area error                  39.678072\n",
            "smoothness error             0.007058\n",
            "compactness error            0.025665\n",
            "concavity error              0.031952\n",
            "concave points error         0.011780\n",
            "symmetry error               0.020544\n",
            "fractal dimension error      0.003819\n",
            "worst radius                16.269777\n",
            "worst texture               25.664648\n",
            "worst perimeter            107.356719\n",
            "worst area                 880.277148\n",
            "worst smoothness             0.133058\n",
            "worst compactness            0.258315\n",
            "worst concavity              0.275901\n",
            "worst concave points         0.115140\n",
            "worst symmetry               0.291877\n",
            "worst fractal dimension      0.084391\n",
            "dtype: float64 mean radius                 14.150772\n",
            "mean texture                19.683684\n",
            "mean perimeter              91.679298\n",
            "mean area                  662.187719\n",
            "mean smoothness              0.092522\n",
            "mean compactness             0.092613\n",
            "mean concavity               0.079651\n",
            "mean concave points          0.046215\n",
            "mean symmetry                0.174888\n",
            "mean fractal dimension       0.061534\n",
            "radius error                 0.442244\n",
            "texture error                1.263661\n",
            "perimeter error              3.121321\n",
            "area error                  46.256579\n",
            "smoothness error             0.006884\n",
            "compactness error            0.023798\n",
            "concavity error              0.031367\n",
            "concave points error         0.011941\n",
            "symmetry error               0.020525\n",
            "fractal dimension error      0.003581\n",
            "worst radius                16.263912\n",
            "worst texture               25.790175\n",
            "worst perimeter            106.403333\n",
            "worst area                 883.331579\n",
            "worst smoothness             0.126177\n",
            "worst compactness            0.217891\n",
            "worst concavity              0.238840\n",
            "worst concave points         0.109813\n",
            "worst symmetry               0.273893\n",
            "worst fractal dimension      0.079946\n",
            "dtype: float64 mean radius                 14.127292\n",
            "mean texture                19.289649\n",
            "mean perimeter              91.969033\n",
            "mean area                  654.889104\n",
            "mean smoothness              0.096360\n",
            "mean compactness             0.104341\n",
            "mean concavity               0.088799\n",
            "mean concave points          0.048919\n",
            "mean symmetry                0.181162\n",
            "mean fractal dimension       0.062798\n",
            "radius error                 0.405172\n",
            "texture error                1.216853\n",
            "perimeter error              2.866059\n",
            "area error                  40.337079\n",
            "smoothness error             0.007041\n",
            "compactness error            0.025478\n",
            "concavity error              0.031894\n",
            "concave points error         0.011796\n",
            "symmetry error               0.020542\n",
            "fractal dimension error      0.003795\n",
            "worst radius                16.269190\n",
            "worst texture               25.677223\n",
            "worst perimeter            107.261213\n",
            "worst area                 880.583128\n",
            "worst smoothness             0.132369\n",
            "worst compactness            0.254265\n",
            "worst concavity              0.272188\n",
            "worst concave points         0.114606\n",
            "worst symmetry               0.290076\n",
            "worst fractal dimension      0.083946\n",
            "dtype: float64\n"
          ],
          "name": "stdout"
        }
      ]
    },
    {
      "cell_type": "code",
      "metadata": {
        "id": "-2a4ILm0YWTe",
        "colab_type": "code",
        "colab": {}
      },
      "source": [
        "X_train, X_test, Y_train, Y_test = train_test_split(X, Y, test_size=0.1, stratify = Y, random_state=1)"
      ],
      "execution_count": null,
      "outputs": []
    },
    {
      "cell_type": "code",
      "metadata": {
        "id": "7KHMCeo6Y4sL",
        "colab_type": "code",
        "colab": {
          "base_uri": "https://localhost:8080/",
          "height": 1672
        },
        "outputId": "14df84b5-e2b7-4722-9160-5016cd57642d"
      },
      "source": [
        "print(X_train.mean(), X_test.mean(), X.mean())"
      ],
      "execution_count": null,
      "outputs": [
        {
          "output_type": "stream",
          "text": [
            "mean radius                 14.058656\n",
            "mean texture                19.309668\n",
            "mean perimeter              91.530488\n",
            "mean area                  648.097266\n",
            "mean smoothness              0.096568\n",
            "mean compactness             0.105144\n",
            "mean concavity               0.089342\n",
            "mean concave points          0.048892\n",
            "mean symmetry                0.181961\n",
            "mean fractal dimension       0.062979\n",
            "radius error                 0.403659\n",
            "texture error                1.206856\n",
            "perimeter error              2.861173\n",
            "area error                  39.935506\n",
            "smoothness error             0.007067\n",
            "compactness error            0.025681\n",
            "concavity error              0.032328\n",
            "concave points error         0.011963\n",
            "symmetry error               0.020584\n",
            "fractal dimension error      0.003815\n",
            "worst radius                16.194275\n",
            "worst texture               25.644902\n",
            "worst perimeter            106.757715\n",
            "worst area                 871.647852\n",
            "worst smoothness             0.132592\n",
            "worst compactness            0.257415\n",
            "worst concavity              0.275623\n",
            "worst concave points         0.115454\n",
            "worst symmetry               0.291562\n",
            "worst fractal dimension      0.084402\n",
            "dtype: float64 mean radius                 14.743807\n",
            "mean texture                19.109825\n",
            "mean perimeter              95.908246\n",
            "mean area                  715.896491\n",
            "mean smoothness              0.094496\n",
            "mean compactness             0.097130\n",
            "mean concavity               0.083923\n",
            "mean concave points          0.049159\n",
            "mean symmetry                0.173981\n",
            "mean fractal dimension       0.061169\n",
            "radius error                 0.418767\n",
            "texture error                1.306656\n",
            "perimeter error              2.909946\n",
            "area error                  43.944193\n",
            "smoothness error             0.006809\n",
            "compactness error            0.023659\n",
            "concavity error              0.027989\n",
            "concave points error         0.010293\n",
            "symmetry error               0.020169\n",
            "fractal dimension error      0.003618\n",
            "worst radius                16.942105\n",
            "worst texture               25.967544\n",
            "worst perimeter            111.783860\n",
            "worst area                 960.843860\n",
            "worst smoothness             0.130357\n",
            "worst compactness            0.225973\n",
            "worst concavity              0.241340\n",
            "worst concave points         0.106994\n",
            "worst symmetry               0.276719\n",
            "worst fractal dimension      0.079852\n",
            "dtype: float64 mean radius                 14.127292\n",
            "mean texture                19.289649\n",
            "mean perimeter              91.969033\n",
            "mean area                  654.889104\n",
            "mean smoothness              0.096360\n",
            "mean compactness             0.104341\n",
            "mean concavity               0.088799\n",
            "mean concave points          0.048919\n",
            "mean symmetry                0.181162\n",
            "mean fractal dimension       0.062798\n",
            "radius error                 0.405172\n",
            "texture error                1.216853\n",
            "perimeter error              2.866059\n",
            "area error                  40.337079\n",
            "smoothness error             0.007041\n",
            "compactness error            0.025478\n",
            "concavity error              0.031894\n",
            "concave points error         0.011796\n",
            "symmetry error               0.020542\n",
            "fractal dimension error      0.003795\n",
            "worst radius                16.269190\n",
            "worst texture               25.677223\n",
            "worst perimeter            107.261213\n",
            "worst area                 880.583128\n",
            "worst smoothness             0.132369\n",
            "worst compactness            0.254265\n",
            "worst concavity              0.272188\n",
            "worst concave points         0.114606\n",
            "worst symmetry               0.290076\n",
            "worst fractal dimension      0.083946\n",
            "dtype: float64\n"
          ],
          "name": "stdout"
        }
      ]
    },
    {
      "cell_type": "markdown",
      "metadata": {
        "id": "fT9sC0UKb12E",
        "colab_type": "text"
      },
      "source": [
        "# Binarisation of input"
      ]
    },
    {
      "cell_type": "code",
      "metadata": {
        "id": "845LI9BPcuHG",
        "colab_type": "code",
        "colab": {}
      },
      "source": [
        "import matplotlib.pyplot as plt"
      ],
      "execution_count": null,
      "outputs": []
    },
    {
      "cell_type": "code",
      "metadata": {
        "id": "72YS45uZdX0D",
        "colab_type": "code",
        "colab": {
          "base_uri": "https://localhost:8080/",
          "height": 440
        },
        "outputId": "d061fb72-3e4e-4016-a14d-8916ceefa1a4"
      },
      "source": [
        "plt.plot(X_test.T, '*')\n",
        "plt.xticks(rotation='vertical')\n",
        "plt.show()"
      ],
      "execution_count": null,
      "outputs": [
        {
          "output_type": "display_data",
          "data": {
            "image/png": "[encoded data removed]",
            "text/plain": [
              "<Figure size 576x396 with 1 Axes>"
            ]
          },
          "metadata": {
            "tags": []
          }
        }
      ]
    },
    {
      "cell_type": "code",
      "metadata": {
        "id": "JXoaxoUzdZ-u",
        "colab_type": "code",
        "colab": {}
      },
      "source": [
        "X_binarised_3_train = X_train['mean area'].map(lambda x: 0 if x < 1000 else 1)"
      ],
      "execution_count": null,
      "outputs": []
    },
    {
      "cell_type": "code",
      "metadata": {
        "id": "A7W6c9o8d3Qd",
        "colab_type": "code",
        "colab": {
          "base_uri": "https://localhost:8080/",
          "height": 365
        },
        "outputId": "bef6af07-ce5d-4072-f2d3-e5fa3b0bb500"
      },
      "source": [
        "plt.plot(X_binarised_3_train, '*')"
      ],
      "execution_count": null,
      "outputs": [
        {
          "output_type": "execute_result",
          "data": {
            "text/plain": [
              "[<matplotlib.lines.Line2D at 0x7f77b8625dd8>]"
            ]
          },
          "metadata": {
            "tags": []
          },
          "execution_count": 28
        },
        {
          "output_type": "display_data",
          "data": {
            "image/png": "[encoded data removed]",
            "text/plain": [
              "<Figure size 576x396 with 1 Axes>"
            ]
          },
          "metadata": {
            "tags": []
          }
        }
      ]
    },
    {
      "cell_type": "code",
      "metadata": {
        "id": "8a3Dh5Gnd8bG",
        "colab_type": "code",
        "colab": {}
      },
      "source": [
        "X_binarised_train = X_train.apply(pd.cut, bins=2, labels=[1,0])"
      ],
      "execution_count": null,
      "outputs": []
    },
    {
      "cell_type": "code",
      "metadata": {
        "id": "KQY7ICWweNxt",
        "colab_type": "code",
        "colab": {
          "base_uri": "https://localhost:8080/",
          "height": 440
        },
        "outputId": "ef57992e-5d91-4ebe-977b-9b6eecb9e1b8"
      },
      "source": [
        "plt.plot(X_binarised_train.T, '*')\n",
        "plt.xticks(rotation='vertical')\n",
        "plt.show()"
      ],
      "execution_count": null,
      "outputs": [
        {
          "output_type": "display_data",
          "data": {
            "image/png": "[encoded data removed]",
            "text/plain": [
              "<Figure size 576x396 with 1 Axes>"
            ]
          },
          "metadata": {
            "tags": []
          }
        }
      ]
    },
    {
      "cell_type": "code",
      "metadata": {
        "id": "bGxvIRV9eRrh",
        "colab_type": "code",
        "colab": {}
      },
      "source": [
        "X_binarised_test = X_test.apply(pd.cut, bins=2, labels=[1,0])"
      ],
      "execution_count": null,
      "outputs": []
    },
    {
      "cell_type": "code",
      "metadata": {
        "id": "gJsquRBFeZJS",
        "colab_type": "code",
        "colab": {
          "base_uri": "https://localhost:8080/",
          "height": 35
        },
        "outputId": "c716005f-b39a-4e55-9dd9-c045c8d29047"
      },
      "source": [
        "type(X_binarised_test)"
      ],
      "execution_count": null,
      "outputs": [
        {
          "output_type": "execute_result",
          "data": {
            "text/plain": [
              "pandas.core.frame.DataFrame"
            ]
          },
          "metadata": {
            "tags": []
          },
          "execution_count": 32
        }
      ]
    },
    {
      "cell_type": "code",
      "metadata": {
        "id": "sVBP3O2ueabj",
        "colab_type": "code",
        "colab": {}
      },
      "source": [
        "X_binarised_test = X_binarised_test.values\n",
        "X_binarised_train = X_binarised_train.values"
      ],
      "execution_count": null,
      "outputs": []
    },
    {
      "cell_type": "code",
      "metadata": {
        "id": "8zfwovfzeiBm",
        "colab_type": "code",
        "colab": {
          "base_uri": "https://localhost:8080/",
          "height": 35
        },
        "outputId": "4169b519-1327-4263-8f3f-fccc31daf5c0"
      },
      "source": [
        "type(X_binarised_test)"
      ],
      "execution_count": null,
      "outputs": [
        {
          "output_type": "execute_result",
          "data": {
            "text/plain": [
              "numpy.ndarray"
            ]
          },
          "metadata": {
            "tags": []
          },
          "execution_count": 34
        }
      ]
    },
    {
      "cell_type": "markdown",
      "metadata": {
        "id": "HsV1gX3Ge-WC",
        "colab_type": "text"
      },
      "source": [
        "# MP neuron model"
      ]
    },
    {
      "cell_type": "code",
      "metadata": {
        "id": "s5GH3kqQpULG",
        "colab_type": "code",
        "colab": {}
      },
      "source": [
        "from random import randint"
      ],
      "execution_count": null,
      "outputs": []
    },
    {
      "cell_type": "code",
      "metadata": {
        "id": "JoOBEPiDoh5A",
        "colab_type": "code",
        "colab": {
          "base_uri": "https://localhost:8080/",
          "height": 72
        },
        "outputId": "e6d569be-9156-4b40-f8d6-4ee3ffeb83d5"
      },
      "source": [
        "b = 3\n",
        "\n",
        "i = randint(0, X_binarised_train.shape[0])\n",
        "\n",
        "print('For row', i)\n",
        "\n",
        "if (np.sum(X_binarised_train[100, :]) >= b):\n",
        "  print('MP Neuron inference is malignant')\n",
        "else:\n",
        "  print('MP Neuron inference is benign')\n",
        "  \n",
        "if (Y_train[i] == 1):\n",
        "  print('Ground truth is malignant')\n",
        "else:\n",
        "  print('Ground truth is benign')"
      ],
      "execution_count": null,
      "outputs": [
        {
          "output_type": "stream",
          "text": [
            "For row 431\n",
            "MP Neuron inference is malignant\n",
            "Ground truth is malignant\n"
          ],
          "name": "stdout"
        }
      ]
    },
    {
      "cell_type": "code",
      "metadata": {
        "id": "oSWdQAVFpJB9",
        "colab_type": "code",
        "colab": {
          "base_uri": "https://localhost:8080/",
          "height": 35
        },
        "outputId": "917a3655-398b-40a1-b988-1dd03de40186"
      },
      "source": [
        "b = 3\n",
        "\n",
        "Y_pred_train = []\n",
        "accurate_rows = 0\n",
        "\n",
        "for x, y in zip(X_binarised_train, Y_train):\n",
        "  y_pred = (np.sum(x) >= b)\n",
        "  Y_pred_train.append(y_pred)\n",
        "  accurate_rows += (y == y_pred)\n",
        "  \n",
        "print(accurate_rows, accurate_rows/X_binarised_train.shape[0])\n",
        "  "
      ],
      "execution_count": null,
      "outputs": [
        {
          "output_type": "stream",
          "text": [
            "321 0.626953125\n"
          ],
          "name": "stdout"
        }
      ]
    },
    {
      "cell_type": "code",
      "metadata": {
        "id": "wWdjFjC4qCmu",
        "colab_type": "code",
        "colab": {
          "base_uri": "https://localhost:8080/",
          "height": 581
        },
        "outputId": "d1f25160-8b7a-4b67-a452-9ecac3800368"
      },
      "source": [
        "for b in range(X_binarised_train.shape[1] + 1):\n",
        "  Y_pred_train = []\n",
        "  accurate_rows = 0\n",
        "\n",
        "  for x, y in zip(X_binarised_train, Y_train):\n",
        "    y_pred = (np.sum(x) >= b)\n",
        "    Y_pred_train.append(y_pred)\n",
        "    accurate_rows += (y == y_pred)\n",
        "\n",
        "  print(b, accurate_rows/X_binarised_train.shape[0])  "
      ],
      "execution_count": null,
      "outputs": [
        {
          "output_type": "stream",
          "text": [
            "0 0.626953125\n",
            "1 0.626953125\n",
            "2 0.626953125\n",
            "3 0.626953125\n",
            "4 0.626953125\n",
            "5 0.626953125\n",
            "6 0.626953125\n",
            "7 0.626953125\n",
            "8 0.626953125\n",
            "9 0.626953125\n",
            "10 0.626953125\n",
            "11 0.626953125\n",
            "12 0.626953125\n",
            "13 0.626953125\n",
            "14 0.630859375\n",
            "15 0.6328125\n",
            "16 0.642578125\n",
            "17 0.6484375\n",
            "18 0.65625\n",
            "19 0.6640625\n",
            "20 0.671875\n",
            "21 0.6875\n",
            "22 0.701171875\n",
            "23 0.724609375\n",
            "24 0.755859375\n",
            "25 0.78515625\n",
            "26 0.818359375\n",
            "27 0.845703125\n",
            "28 0.849609375\n",
            "29 0.814453125\n",
            "30 0.759765625\n"
          ],
          "name": "stdout"
        }
      ]
    },
    {
      "cell_type": "code",
      "metadata": {
        "id": "_S7f6ypzuufw",
        "colab_type": "code",
        "colab": {}
      },
      "source": [
        "from sklearn.metrics import accuracy_score"
      ],
      "execution_count": null,
      "outputs": []
    },
    {
      "cell_type": "code",
      "metadata": {
        "id": "sra9X-duuUVV",
        "colab_type": "code",
        "colab": {
          "base_uri": "https://localhost:8080/",
          "height": 35
        },
        "outputId": "553e57cc-a50e-4419-8627-2ad43caa2700"
      },
      "source": [
        "b = 28\n",
        "\n",
        "Y_pred_test = []\n",
        "\n",
        "for x in X_binarised_test:\n",
        "  y_pred = (np.sum(x) >= b)\n",
        "  Y_pred_test.append(y_pred)\n",
        "\n",
        "accuracy = accuracy_score(Y_pred_test, Y_test)\n",
        "\n",
        "print(b, accuracy)  "
      ],
      "execution_count": null,
      "outputs": [
        {
          "output_type": "stream",
          "text": [
            "28 0.7894736842105263\n"
          ],
          "name": "stdout"
        }
      ]
    },
    {
      "cell_type": "markdown",
      "metadata": {
        "id": "nNPjMZiwvwp6",
        "colab_type": "text"
      },
      "source": [
        "# MP Neuron Class"
      ]
    },
    {
      "cell_type": "code",
      "metadata": {
        "id": "nmqsH4TKu6YA",
        "colab_type": "code",
        "colab": {}
      },
      "source": [
        "class MPNeuron:\n",
        "  \n",
        "  def __init__(self):\n",
        "    self.b = None\n",
        "    \n",
        "  def model(self, x):\n",
        "    return(sum(x) >= self.b)\n",
        "  \n",
        "  def predict(self, X):\n",
        "    Y = []\n",
        "    for x in X:\n",
        "      result = self.model(x)\n",
        "      Y.append(result)\n",
        "    return np.array(Y)\n",
        "  \n",
        "  def fit(self, X, Y):\n",
        "    accuracy = {}\n",
        "    \n",
        "    for b in range(X.shape[1] + 1):\n",
        "      self.b = b\n",
        "      Y_pred = self.predict(X)\n",
        "      accuracy[b] = accuracy_score(Y_pred, Y)\n",
        "      \n",
        "    best_b = max(accuracy, key = accuracy.get)\n",
        "    self.b = best_b\n",
        "    \n",
        "    print('Optimal value of b is', best_b)\n",
        "    print('Highest accuracy is', accuracy[best_b])"
      ],
      "execution_count": null,
      "outputs": []
    },
    {
      "cell_type": "code",
      "metadata": {
        "id": "FSBMAb9iw8Gg",
        "colab_type": "code",
        "colab": {
          "base_uri": "https://localhost:8080/",
          "height": 54
        },
        "outputId": "c33e907d-e67f-4cb4-f340-5d738d5cd21e"
      },
      "source": [
        "mp_neuron = MPNeuron()\n",
        "mp_neuron.fit(X_binarised_train, Y_train)"
      ],
      "execution_count": null,
      "outputs": [
        {
          "output_type": "stream",
          "text": [
            "Optimal value of b is 28\n",
            "Highest accuracy is 0.849609375\n"
          ],
          "name": "stdout"
        }
      ]
    },
    {
      "cell_type": "code",
      "metadata": {
        "id": "DLbCuv4XxB5a",
        "colab_type": "code",
        "colab": {}
      },
      "source": [
        "Y_test_pred = mp_neuron.predict(X_binarised_test)\n",
        "accuracy_test = accuracy_score(Y_test_pred, Y_test)"
      ],
      "execution_count": null,
      "outputs": []
    },
    {
      "cell_type": "code",
      "metadata": {
        "id": "v5xRz_UTxPer",
        "colab_type": "code",
        "colab": {
          "base_uri": "https://localhost:8080/",
          "height": 35
        },
        "outputId": "e98e7bd2-d654-4152-af90-e0c18f4057eb"
      },
      "source": [
        "print(accuracy_test)"
      ],
      "execution_count": null,
      "outputs": [
        {
          "output_type": "stream",
          "text": [
            "0.7894736842105263\n"
          ],
          "name": "stdout"
        }
      ]
    },
    {
      "cell_type": "markdown",
      "metadata": {
        "id": "OdMOCKAvs4JO",
        "colab_type": "text"
      },
      "source": [
        "# Perceptron Class"
      ]
    },
    {
      "cell_type": "code",
      "metadata": {
        "id": "zpMzDt5fwtcE",
        "colab_type": "code",
        "colab": {}
      },
      "source": [
        "X_train = X_train.values\n",
        "X_test = X_test.values"
      ],
      "execution_count": null,
      "outputs": []
    },
    {
      "cell_type": "markdown",
      "metadata": {
        "id": "Qd_HKoKnu66i",
        "colab_type": "text"
      },
      "source": [
        "$y = 1, \\mbox{if} \\sum_i w_i x_i >= b$\n",
        "\n",
        "$y =  0, \\mbox{otherwise}$"
      ]
    },
    {
      "cell_type": "code",
      "metadata": {
        "id": "rG0tKLsUxQ9b",
        "colab_type": "code",
        "colab": {}
      },
      "source": [
        "class Perceptron:\n",
        "  \n",
        "  def __init__ (self):\n",
        "    self.w = None\n",
        "    self.b = None\n",
        "    \n",
        "  def model(self, x):\n",
        "    return 1 if (np.dot(self.w, x) >= self.b) else 0\n",
        "    \n",
        "  def predict(self, X):\n",
        "    Y = []\n",
        "    for x in X:\n",
        "      result = self.model(x)\n",
        "      Y.append(result)\n",
        "    return np.array(Y)\n",
        "    \n",
        "  def fit(self, X, Y, epochs = 1, lr = 1):\n",
        "    \n",
        "    self.w = np.ones(X.shape[1])\n",
        "    self.b = 0\n",
        "    \n",
        "    accuracy = {}\n",
        "    max_accuracy = 0\n",
        "    \n",
        "    wt_matrix = []\n",
        "    \n",
        "    for i in range(epochs):\n",
        "      for x, y in zip(X, Y):\n",
        "        y_pred = self.model(x)\n",
        "        if y == 1 and y_pred == 0:\n",
        "          self.w = self.w + lr * x\n",
        "          self.b = self.b - lr * 1\n",
        "        elif y == 0 and y_pred == 1:\n",
        "          self.w = self.w - lr * x\n",
        "          self.b = self.b + lr * 1\n",
        "          \n",
        "      wt_matrix.append(self.w)    \n",
        "          \n",
        "      accuracy[i] = accuracy_score(self.predict(X), Y)\n",
        "      if (accuracy[i] > max_accuracy):\n",
        "        max_accuracy = accuracy[i]\n",
        "        chkptw = self.w\n",
        "        chkptb = self.b\n",
        "        \n",
        "    self.w = chkptw\n",
        "    self.b = chkptb\n",
        "        \n",
        "    print(max_accuracy)\n",
        "    \n",
        "    plt.plot(accuracy.values())\n",
        "    plt.ylim([0, 1])\n",
        "    plt.show()\n",
        "    \n",
        "    return np.array(wt_matrix)"
      ],
      "execution_count": null,
      "outputs": []
    },
    {
      "cell_type": "code",
      "metadata": {
        "id": "rYc6A9E2wrns",
        "colab_type": "code",
        "colab": {}
      },
      "source": [
        "perceptron = Perceptron()"
      ],
      "execution_count": null,
      "outputs": []
    },
    {
      "cell_type": "code",
      "metadata": {
        "id": "R4IcxePAw49U",
        "colab_type": "code",
        "colab": {
          "base_uri": "https://localhost:8080/",
          "height": 369
        },
        "outputId": "b92b0bba-fd78-4e12-9d33-2049a5d74eea"
      },
      "source": [
        "wt_matrix = perceptron.fit(X_train, Y_train, 10000, 0.005)"
      ],
      "execution_count": null,
      "outputs": [
        {
          "output_type": "stream",
          "text": [
            "0.947265625\n"
          ],
          "name": "stdout"
        },
        {
          "output_type": "display_data",
          "data": {
            "image/png": "[encoded data removed]",
            "text/plain": [
              "<Figure size 576x396 with 1 Axes>"
            ]
          },
          "metadata": {
            "tags": []
          }
        }
      ]
    },
    {
      "cell_type": "code",
      "metadata": {
        "id": "u76oalfOxQWV",
        "colab_type": "code",
        "colab": {
          "base_uri": "https://localhost:8080/",
          "height": 35
        },
        "outputId": "e1127777-6eeb-4362-ffb2-82d1d5e62251"
      },
      "source": [
        "Y_pred_test = perceptron.predict(X_test)\n",
        "print(accuracy_score(Y_pred_test, Y_test))"
      ],
      "execution_count": null,
      "outputs": [
        {
          "output_type": "stream",
          "text": [
            "0.9473684210526315\n"
          ],
          "name": "stdout"
        }
      ]
    },
    {
      "cell_type": "code",
      "metadata": {
        "id": "e9abrgoW-GlS",
        "colab_type": "code",
        "colab": {
          "base_uri": "https://localhost:8080/",
          "height": 347
        },
        "outputId": "f369f59d-9c32-4138-fd60-42d0cc2276fa"
      },
      "source": [
        "plt.plot(wt_matrix[-1,:])\n",
        "plt.show()"
      ],
      "execution_count": null,
      "outputs": [
        {
          "output_type": "display_data",
          "data": {
            "image/png": "[encoded data removed]",
            "text/plain": [
              "<Figure size 576x396 with 1 Axes>"
            ]
          },
          "metadata": {
            "tags": []
          }
        }
      ]
    },
    {
      "cell_type": "code",
      "metadata": {
        "id": "0q6wRNeO-PDc",
        "colab_type": "code",
        "colab": {}
      },
      "source": [
        "%matplotlib inline\n",
        "from matplotlib import animation, rc\n",
        "from IPython.display import HTML"
      ],
      "execution_count": null,
      "outputs": []
    },
    {
      "cell_type": "code",
      "metadata": {
        "id": "6k8JZKSr-oeK",
        "colab_type": "code",
        "colab": {
          "base_uri": "https://localhost:8080/",
          "height": 269
        },
        "outputId": "33bc8796-b41d-460e-ae10-ebe544753cc8"
      },
      "source": [
        "# First set up the figure, the axis, and the plot element we want to animate\n",
        "fig, ax = plt.subplots()\n",
        "\n",
        "ax.set_xlim(( 0, wt_matrix.shape[1]))\n",
        "ax.set_ylim((-15000, 25000))\n",
        "\n",
        "line, = ax.plot([], [], lw=2)"
      ],
      "execution_count": null,
      "outputs": [
        {
          "output_type": "display_data",
          "data": {
            "image/png": "[encoded data removed]",
            "text/plain": [
              "<Figure size 432x288 with 1 Axes>"
            ]
          },
          "metadata": {
            "tags": []
          }
        }
      ]
    },
    {
      "cell_type": "code",
      "metadata": {
        "id": "h7-kujHh-uSc",
        "colab_type": "code",
        "colab": {}
      },
      "source": [
        "# animation function. This is called sequentially\n",
        "def animate(i):\n",
        "    x = list(range(wt_matrix.shape[1]))\n",
        "    y = wt_matrix[i, :]\n",
        "    line.set_data(x, y)\n",
        "    return (line,)"
      ],
      "execution_count": null,
      "outputs": []
    },
    {
      "cell_type": "code",
      "metadata": {
        "id": "kzXVRFJo-xwI",
        "colab_type": "code",
        "colab": {}
      },
      "source": [
        "# call the animator. blit=True means only re-draw the parts that have changed.\n",
        "anim = animation.FuncAnimation(fig, animate, frames=100, interval=200, blit=True)"
      ],
      "execution_count": null,
      "outputs": []
    },
    {
      "cell_type": "code",
      "metadata": {
        "id": "Rphin0gy-0Dm",
        "colab_type": "code",
        "colab": {
          "base_uri": "https://localhost:8080/",
          "height": 308
        },
        "outputId": "7d159684-6087-4a05-9cc7-f8a8e2ea9484"
      },
      "source": [
        "HTML(anim.to_html5_video())"
      ],
      "execution_count": null,
      "outputs": [
        {
          "output_type": "execute_result",
          "data": {
            "text/html": [
              "<video width=\"432\" height=\"288\" controls autoplay loop>\n",
              "  <source type=\"video/mp4\" src=\"data:video/mp4;base64,AAAAHGZ0eXBNNFYgAAACAGlzb21pc28yYXZjMQAAAAhmcmVlAAAcqm1kYXQAAAKtBgX//6ncRem9\n",
              "5tlIt5Ys2CDZI+7veDI2NCAtIGNvcmUgMTUyIHIyODU0IGU5YTU5MDMgLSBILjI2NC9NUEVHLTQg\n",
              "QVZDIGNvZGVjIC0gQ29weWxlZnQgMjAwMy0yMDE3IC0gaHR0cDovL3d3dy52aWRlb2xhbi5vcmcv\n",
              "eDI2NC5odG1sIC0gb3B0aW9uczogY2FiYWM9MSByZWY9MyBkZWJsb2NrPTE6MDowIGFuYWx5c2U9\n",
              "MHgzOjB4MTEzIG1lPWhleCBzdWJtZT03IHBzeT0xIHBzeV9yZD0xLjAwOjAuMDAgbWl4ZWRfcmVm\n",
              "PTEgbWVfcmFuZ2U9MTYgY2hyb21hX21lPTEgdHJlbGxpcz0xIDh4OGRjdD0xIGNxbT0wIGRlYWR6\n",
              "b25lPTIxLDExIGZhc3RfcHNraXA9MSBjaHJvbWFfcXBfb2Zmc2V0PS0yIHRocmVhZHM9MyBsb29r\n",
              "YWhlYWRfdGhyZWFkcz0xIHNsaWNlZF90aHJlYWRzPTAgbnI9MCBkZWNpbWF0ZT0xIGludGVybGFj\n",
              "ZWQ9MCBibHVyYXlfY29tcGF0PTAgY29uc3RyYWluZWRfaW50cmE9MCBiZnJhbWVzPTMgYl9weXJh\n",
              "bWlkPTIgYl9hZGFwdD0xIGJfYmlhcz0wIGRpcmVjdD0xIHdlaWdodGI9MSBvcGVuX2dvcD0wIHdl\n",
              "aWdodHA9MiBrZXlpbnQ9MjUwIGtleWludF9taW49NSBzY2VuZWN1dD00MCBpbnRyYV9yZWZyZXNo\n",
              "PTAgcmNfbG9va2FoZWFkPTQwIHJjPWNyZiBtYnRyZWU9MSBjcmY9MjMuMCBxY29tcD0wLjYwIHFw\n",
              "bWluPTAgcXBtYXg9NjkgcXBzdGVwPTQgaXBfcmF0aW89MS40MCBhcT0xOjEuMDAAgAAAEDRliIQA\n",
              "FP/+98dPwKbo+WbLnUU9ITCK2PpIKL1Y7NAydQAAAwAARTqf8abZLMBRw1S3qJ4iOWGu44L/ulNg\n",
              "7i0YJVeWmLr8alSVPCOD13OKYKtJu+rXkd6/pvTqU8cAFSTZwYiQcfDI7rBYuy0X4+VFZDe5fzu8\n",
              "bKIH7u3rkX/gV/Y3yPE4vUuIIE6nkWfL6wACMf7Ymzri/MzK4DSYK54PEIhOAaPlHWY0I8898Mf/\n",
              "T3BENiW6JOiZ4Kwbf90yNXGgq60vMVoCJVuRr6Dd6I+0Y2xsHRKMgN8HkdPVzc6mpnL/4GGjz/gE\n",
              "Ff4pBu5vJyAaRGYDMncpFlPusWZ8oxWm4TsoTXG8OQ52Vt4pvXTc028uOf4XdfisQvIFH0/Zlpv3\n",
              "YBb5aOJM18Gdv31MqAfBnk2I2MC6nsRdrKfYoqtpEPJIkEsKETC7tgfd2yutOQog1JpeYMbMWvWM\n",
              "QQg6bykEwB+a2SYdJG2WuPQrU5V5P8eNjWefN+bv+nC0b0NX9KucHFCiAUL4L1FvjKoFEu/Sd2Jo\n",
              "JgpaRqGM+3GLHZGzZpASw74AOfTwPo8GKfl3U4M0gbz8pZwXnY7f274/c+iwctSC8ERZplHSm1Te\n",
              "K2yIUD2zvxGoOSJiv8qwJilPI3I92YSpregdwmqrajXSbshAIK2W703++Ye661szjJjQBFJYgaSy\n",
              "wYtaCNNrQ2oxWcrlNEsyLZ5weRl21Swu61xCC/QxMguco1J/FoZnVSqScXALCilgMYtHJc60iX3p\n",
              "tOjqaRLv/du0YAksvDhBi3CkOwb50e4TXOoI0FRePbL9jVgVuhgJx8HxzXIpRRweoQzkKh0n/Cw5\n",
              "81PUyFzrYQ3QDYuv6d0SLaoNK/Rwq1diM9q7jIDT/wGZbDPzXOhLAJjVgAnxCE/T5qp6AoB6N5/i\n",
              "OZQ+EMxCOFT0BOIlBZW0VUvWCrMLzvlb92ooaLhQRwvCpxi3/2QNKJ/uDJCYCjimdWZoX9tcEhfc\n",
              "phYYmCy5RSjmqV71JoBAEwrsHoOLCqwWfWtvVGLw/p37IRFWIGjlkoiaq7Ou4SeCv6P2E3zw3cMh\n",
              "5XFAyO6mpRXrFWLPdpuIueUEFnpx6y1NPM/u7sPC3QhW4nzXzrRpbXgn5kF7LULQQRZQ13ckT5vc\n",
              "l/M4j3wV+q/RNlUSrywjFmZI/WGfMLGAS/1HE/fxcgojtwnVWCczbThkefqzLJ9/trUs83Hajm5D\n",
              "NbTQ+NoRljIYz98NrgiZpIjh2PIfA0AIaYVF4jULQnFDwVFae+d62vz56nfyGbLYOOr7pJiobHin\n",
              "ohATrcbN07UBcvDpnJx3JUCY1lm/GNSLdz6nIwltJHLVC6al0fwjWKsAiOPkDarJiIdn1N8IRlfE\n",
              "l/L7V1VSDVcJKFb4hPrQm2FjokgZ9OGkihJS51sqqNRaAVG6AqwrP8eomA3exWycfpAygfnVo9C+\n",
              "kjEszfRjZmxJ9ThDNHIF8Lh4JtHNcUg9+RsgksgLi+IO3db1ALMEpRz0v5HBYkMJAJ/cJ3w/b066\n",
              "mtGJsW+5Kj4cRbQ8Ze1QMl0/8tB+ctdf/LnOxa1rKshVmkp3jAMSOpe5+eZetAAPFsH9zzj7xNOC\n",
              "74utd34Fqs5DxvM/cAjwFWB8OSLTKs5tAV7//JcUHChknIiLihvVe91wE9EUV2Bz5R0J7fZeJyIi\n",
              "4ob0nR/h+IkuviwIfUe0GQoOCK3SUTkN5YXcrFbQ7UEWLEMYXelRQJSjW44wkax0cj9m8QC/4dQo\n",
              "waCp0SnxtEPTbfClNJXzFRSjVam6lJSsYJ/kaLT731sNZX+M9CC32pfKIxbRAzEEdohYz3M9BAV5\n",
              "GXfD1Ss0JB5tvmBDPy1CJxRfav/UwCHnNJl89UZBegC6Tr6cBGEG0mALL964Deq+BIkR5llUzsqf\n",
              "ZRhyAFCOWsf/RdZT3Lqy3X1t+OP0COcP8CC9Mc8HBVI2POcgzk8b1iGV/W6yEAAAetjMbZUAj3c/\n",
              "NJYDNO7Uu/bNgZjAz9DXSbcyqOUwSCiFXYe9x/iyglXFA61yw1IwKFtkRnfpntpA5OL5E5kTmeZ5\n",
              "jSt2+dULmjgwpjBpTJT2/M5JVT721xNCGAXYTe1cEZ4UjadSwQrAXhbMHU8LK7ZoNqNEm5N2Xu/D\n",
              "UFguoeYsMTFa+/fdd1OqT+i+V+971xI+9d8FHIq4mzCz6aVp4bR5+f/HBlW7ohVYWlWMZ5yblFcy\n",
              "xf8LlTcmrYoQu74bPcyiDnZZ2Ncy2qrP2ASnSZznXxaMoYyUslGcKKmDi9rWd+yArHtmOG4zm+ns\n",
              "qHFuylwYaAQovFrcjHnof6pNZ8gWT59c5VWRbJ3CJ0wdYRgCIlSNlUJx6sUEGe9YAaVZZAkdXZWF\n",
              "aR/ONdIQtNSnnNanBCDGTqOok2ruC/IzBLV24EmEgouiYwSerxRf8ZXr6GSVxrf3ohkxUKqod+UD\n",
              "fahC9///pvAwwHvSgiGfj18w4jv5F/SeB3Wp51wYRGEZWqxnMNy16Z3/LK7V865zrHct6Vx+DxfH\n",
              "3T/IDbqnHFwRMiVCWZf88Tg8DhDZ37BYzo/IT6+Im8kQ5XVfq8k0iBRhexcxLZBV1eosCHSQ3TTs\n",
              "mOkRvdKdfzAnW/VRwU9IuIjcvj6f7YHlaIZ8x2gwejc/2bn8Sa0BBoQKGmlAxEmp9p2BbQrI7wZR\n",
              "KG4ycVwa64gcqH+KpEbyHeZkimbgvOzEQZlECXcrov0r1G7492PMv0u9LIftll4HCIPP+T6eRKPd\n",
              "XEz4/PyTmpLoseh/yC/qLzQNAt0W2b94777PT3AhxazdXG62g+e9h9xLOj/KIIfR2BRoSaE/atdY\n",
              "lGNa1Wjpp/QHxe3fXq58X8NHKXfCbRcmCbOHbttv6HvvfmRRlMyuzDHgj9GB5+fzHJJ1D4v7UYtQ\n",
              "8kZ5El9lVzclUI3W0KTmgK0WhNOsUQFaV5a84T9ti9RGit2fU45dnuAXuR4gMIgMCALFWI75UuxY\n",
              "k++F/LUJlN/3U9vPEWezlXwcSDMzAHEcrdH/RnrJ1CiHnj18uj1k+5aP17imZJWKQHCkG0Ob4uab\n",
              "I1pFvA5qj15rJ8BLa3gYePB9TEKjopEYlv6N4FSBJBlwFSfZRYAKqi8Z4Mdj8I5aQZsgkyU6Z9vo\n",
              "m3s6Ou+bwcA7qObp8PtSwscZwwfmUYAD/AgiQ9SBA2l50Cpr0j4JFBxHr0nzYf/2kMMYnyQFOhCf\n",
              "QYb31OiWNj0zeS5xeu6k+2dD/QxjS8yxt3P4Dvat2MwzrSbBKlFsP4rXuHgond/sEIeS0/xEnMJR\n",
              "TCQBnrSD6W04yEuRC1tKdF9WuMxGwvV4FT3LGNR+emiBfdpldfNxh8S2wMnBy8Jv6OutH8LzBoqT\n",
              "66V+6wiYdH+vf1vW1b5eECsEMLYlk1NH4266UcrPotYiSv4zZPBU9vl1Rb+QChPoYbZymOgqKwKb\n",
              "RSirkONqIV8ogPYxmW/FabLtmEWFdsEEseONFKcWk+dhgcRbv22g940EfVrDsBK5YiV9cLrtDrcV\n",
              "3CLLUd48X9KUVn2LMIyns/rnve9AV/G6VJdQ2SUSl7y98W9Wvk04n/iQ3gjt1LC/3KtSxK7qKpFh\n",
              "rYz++3R/4kLxlKalY/rzBPWkT2/lWigKyC2CNtHT9ELvwwPKC0WpigJLdeKKym9OM+uCPcJ5FaYh\n",
              "ozD5eVFNWrUBM5G53u1PxOR96+RdY1t9Nmm4uyw0uHed/1UxxcJCRv8N8IWXasaxE58aePCVs2ig\n",
              "5Eb/9gU1D3anqTyfw5KXsWi3j8h6Ephl3aoVQ+G2LBivYdAdCTeASb4id+vhxZeFRfxdMQCLYyIc\n",
              "cRTAY7y197oV5SFJ+g8bCNKYTQf60RN56xsA8HKS3HYIAAP8rKu4ELAnZlG8XvE4XGiTAWWWr1w+\n",
              "zmKVG256Z+gB2Ndorc84HDR7/CMasGyD7K5aPEK6+p61AAlXjmlXM5lKvQT+gvNiUNXTPiP37xdy\n",
              "KRjPZs6Q9ETvYk9hTYWCksqkCadS6VihsVA2cVdcssOzg1OlOUJ4ljyypWJeE9zEehuAV8lONi8b\n",
              "qm+L13S7pW3DgIKtbkwt114efOmJex2Jd+BE1jM05pt0U8FYsiKTIwWOaEzWFJPAXtm1uIP1+/7k\n",
              "t0fxn+C+6PhYljHvUE9Kz8I/DKkCMgoc0UOdgJ75EW3/4Elp+ykJEXZkgkxCUP0xrVvxssjj+Yz/\n",
              "FlSxPOcSXYYmbYr33zSbfJULyS5g9n4kmt52j7j7cMs/IWCPIaohi+jc15nrna40HKSCj+IlBM8w\n",
              "QRxD9ajfCnIFCh8ZRVvziOWQzz5THDPW3VAn0O2auJ0e5p/nFM2FsPFKoVIqGZXY3hjpj2zmHP3X\n",
              "h5VZXYVINB0Zb4l/j5TICVGfy9EKrkPdwssAw54BDpFYOqaLS0KfEJ9eDkGtAQwefnWaDtYZ2lSg\n",
              "9WJMM+hrbXN1+XSsLzjLA8N1WBMZTRodD3lkErZ0QF6uqF0ywsi9rbq7+gHk9ZF6qiih8wHAxu99\n",
              "M1hwSJWALdcO8VMASQ2SQT2/w6AE4wizV1M2sxcGwHs9nYMYj1cOuThAIKgOtEWOvWdE0vh63yVa\n",
              "7E9tlDShIXDkhe4y+Nt1i7Ffjxji4DBOnXkxuacHOAbpn8cHUtT0DfTNkbA680uv75+PTcjgUYo7\n",
              "Lw4KT+tVQEAgN3d15q/LkUKBVOEGIOJdIhYALZpPKf59GqHZoWH/hbeREepxZCpfu7WEMVuhutBz\n",
              "plfujdEQA3MrOyK/Uzbzk2cPRxqW6rPSeChlp/mUf9hFjS2R+LBkfFaZYz/r5p3aR9tW8oN7w/KX\n",
              "JkAtRU9YrxfQsFoGfvvtalcH0UBnOyTO31NyPvuEWAiSubE0GWCFW8tzm3Bwq9ip/IgALF8HQtq8\n",
              "5+NTUQwoQyQsFcWzRx83Pwx/plRFe8R7aY0RoNu/kLGBYIWzQcsMj3DO3xrjoI0Kp/EHiqiivpF/\n",
              "OO6rfGWC8F+sLaRYINQGjVIGIGgeC75AJX+b6sO0x3RF9qneimSBZZh87dnioxuSIVqXzJm0M4+Z\n",
              "btcs5ltCaVr3Jpr9Kgu9SJIRasy1cRoebBVFFLsOcs+WKN8ipjtv4BLd6zl6HdetaP8+1VQC+2GN\n",
              "GZDsYr1FF9XorsZQf1yGPOGGcSiaarBXo0yzKt6Lerz66wYsqaa1J1e6l0StdMTsx4mMZctA1oaC\n",
              "UjVJitly/XDG/SmrQPCfBitzUa0LatjDvIUtN6qrB4/R2ob7Uf7hDrJvF8eHCkdJv/Xx5ubZF7cl\n",
              "EVtAGT8n9Zv3hjM0Lmi7TnecePqRlSHZlI0Ly7+uzSGLdtRGVMAtwjHrJsUiFA2ZPsIHNDPzvfHZ\n",
              "Xme7cj45728qjSmzmxsqDojFuYhKljgbygawPH7yEQF+xqqtWxWWiMphnnaZDVoFUADY83SNMnzl\n",
              "fokD14wK3Kmi0p6BlEOffU0QMQAQ5a//xoJaNcnTAurjoTXSzvCeqkqISxnZcTnhJUMmk6/yTK1w\n",
              "u61n2gbCBH0eIKKiFfudbrZWnjZAJCkGAXgmT/srMMUAAAMAAs58wQAAAGRBmiRsQU/+1oywAAdJ\n",
              "2BoAq0VTrUYfGQDs7yxmAworcmo/8K56xIy+e5q+4+VQ2WIfJsH9WOm0Ugf4knXKM08lAxh9nqnp\n",
              "uLEawCBbts76E59b0AtlMYhZeuavcck35Sz3jpigAAAADkGeQniCHwAAF9ofgy+BAAAADAGeYXRD\n",
              "/wAAAwBWwAAAAAwBnmNqQ/8AAAMAVsEAAABBQZpoSahBaJlMCCn//taMsAAHShA5AK/6ocrRNM/G\n",
              "xxlpHGx1Ck4D9uXU26Lu2nUfvgFmD0i4Zq2QNoAJ8GZGzHEAAAAOQZ6GRREsEP8AAAMAJuEAAAAM\n",
              "AZ6ldEP/AAADAFbBAAAADAGep2pD/wAAAwBWwAAAAEBBmqxJqEFsmUwIKf/+1oywAAci1wbagDtT\n",
              "oL/LyeT6cMSNbf61flGPsgomFRhodqxmKGc0jJtxxbSPG5pZn7XAAAAADkGeykUVLBD/AAADACbh\n",
              "AAAADAGe6XRD/wAAAwBWwAAAAAwBnutqQ/8AAAMAVsAAAAAzQZrwSahBbJlMCCn//taMsAAHHcIS\n",
              "ABIMrsiFx60MiocEy/Ih+VuRaFwrVEvMWpb48TvRAAAADkGfDkUVLBD/AAADACbhAAAADAGfLXRD\n",
              "/wAAAwBWwQAAAAwBny9qQ/8AAAMAVsAAAAA+QZs0SahBbJlMCCn//taMsAAHSgwNAFHHT4I3zbnO\n",
              "HBeqZ57nGkyFw3b7ZMgsfj9qlebBHO9aEhSRq7BTY6MAAAAOQZ9SRRUsEP8AAAMAJuEAAAAMAZ9x\n",
              "dEP/AAADAFbAAAAADAGfc2pD/wAAAwBWwAAAADFBm3hJqEFsmUwIKf/+1oywAAceDA0AO6rfQ3rQ\n",
              "rOk8YLn6uk2jTq9wWR3fITuD4TvRAAAADkGflkUVLBD/AAADACbgAAAADAGftXRD/wAAAwBWwQAA\n",
              "AAwBn7dqQ/8AAAMAVsEAAAA8QZu8SahBbJlMCCn//taMsAAHShA5AK5cjBPrzzcZLeHzr28nH+3P\n",
              "46OSXo83UUz8MUfX3k7RfUSHxNe6AAAADkGf2kUVLBD/AAADACbhAAAADAGf+XRD/wAAAwBWwAAA\n",
              "AAwBn/tqQ/8AAAMAVsEAAAAyQZvgSahBbJlMCCn//taMsAAHHcIfgAUH1vmF4l3AAuQY/9dLqXXZ\n",
              "Qq8Yy0sr9xp7Qb0AAAAOQZ4eRRUsEP8AAAMAJuAAAAAMAZ49dEP/AAADAFbAAAAADAGeP2pD/wAA\n",
              "AwBWwQAAABxBmiRJqEFsmUwIKf/+1oywAAThoPvAA0DuMAkYAAAAEkGeQkUVLBD/AAARVtlLEKmI\n",
              "lQAAAAwBnmF0Q/8AAAMAVsAAAAAMAZ5jakP/AAADAFbBAAAANkGaaEmoQWyZTAgp//7WjLAABx4Q\n",
              "OQCAF8Ce+WOVR7K8VA8y89eUFfdgJbxxPgX6Z/VLwQJGYQAAABJBnoZFFSwQ/wAAEVbZSxCpiJUA\n",
              "AAAMAZ6ldEP/AAADAFbBAAAADAGep2pD/wAAAwBWwAAAACBBmqxJqEFsmUwIKf/+1oywAAceCylA\n",
              "IOdFjTWZc8s9IAAAABJBnspFFSwQ/wAAEVbZSxCpiJUAAAAMAZ7pdEP/AAADAFbAAAAADAGe62pD\n",
              "/wAAAwBWwAAAACxBmvBJqEFsmUwIKf/+1oywAAceDC8AChdk21hMMi68S+AgSOfvB+s5wDiFHwAA\n",
              "ABJBnw5FFSwQ/wAAEVbZSxCpiJUAAAAMAZ8tdEP/AAADAFbBAAAADAGfL2pD/wAAAwBWwAAAACJB\n",
              "mzRJqEFsmUwIKf/+1oywAAbzaj49MGFEBVqAPeSrcD0YAAAAEkGfUkUVLBD/AAARVtlLEKmIlQAA\n",
              "AAwBn3F0Q/8AAAMAVsAAAAAMAZ9zakP/AAADAFbAAAAAREGbeEmoQWyZTAgp//7WjLAAB0oQ2sAM\n",
              "8R5/3734gWY1A/7uzfrNeTs+PWBQE4rHpwSh/Xcj8Drl7C7KN3qJC2/Dq8yBAAAAEkGflkUVLBD/\n",
              "AAARVtlLEKmIlQAAAAwBn7V0Q/8AAAMAVsEAAAAMAZ+3akP/AAADAFbBAAAAFEGbvEmoQWyZTAgp\n",
              "//7WjLAAAAfcAAAAEkGf2kUVLBD/AAARVtlLEKmIlQAAAAwBn/l0Q/8AAAMAVsAAAAAMAZ/7akP/\n",
              "AAADAFbBAAAAFEGb4EmoQWyZTAgp//7WjLAAAAfdAAAAEkGeHkUVLBD/AAARVtlLEKmIlQAAAAwB\n",
              "nj10Q/8AAAMAVsAAAAAMAZ4/akP/AAADAFbBAAAAKUGaJEmoQWyZTAgp//7WjLAABx4MDQA6z6ea\n",
              "QQdQhnWbt8XawSpjU6LwAAAAEkGeQkUVLBD/AAARVtlLEKmIlQAAAAwBnmF0Q/8AAAMAVsAAAAAM\n",
              "AZ5jakP/AAADAFbBAAAAKEGaaEmoQWyZTAgp//7WjLAABgNgqwrKwAumfWkaaN5ayWNU3N1OB8EA\n",
              "AAASQZ6GRRUsEP8AABFW2UsQqYiVAAAADAGepXRD/wAAAwBWwQAAAAwBnqdqQ/8AAAMAVsAAAAAd\n",
              "QZqsSahBbJlMCCn//taMsAAFBLPAABpKVQ/q+d0AAAASQZ7KRRUsEP8AABFW2UsQqYiVAAAADAGe\n",
              "6XRD/wAAAwBWwAAAAAwBnutqQ/8AAAMAVsAAAAApQZrwSahBbJlMCCn//taMsAAHHgwNACtzv3Lb\n",
              "YAvkcKy6Xt9RCMxg2LEAAAASQZ8ORRUsEP8AABFW2UsQqYiVAAAADAGfLXRD/wAAAwBWwQAAAAwB\n",
              "ny9qQ/8AAAMAVsAAAAAlQZs0SahBbJlMCCf//rUqgAAbzIWyDWSaQGxQm0AXQZ0qyhHdmAAAABJB\n",
              "n1JFFSwQ/wAAEVbZSxCpiJUAAAAMAZ9xdEP/AAADAFbAAAAADAGfc2pD/wAAAwBWwAAAAB5Bm3hJ\n",
              "qEFsmUwIJ//+tSqAABvNwfQAo5uaXWHsSScAAAASQZ+WRRUsEP8AABFW2UsQqYiVAAAADAGftXRD\n",
              "/wAAAwBWwQAAAAwBn7dqQ/8AAAMAVsEAAAAbQZu8SahBbJlMCCf//rUqgAAUEqPgAERPKJM+AAAA\n",
              "EkGf2kUVLBD/AAARVtlLEKmIlQAAAAwBn/l0Q/8AAAMAVsAAAAAMAZ/7akP/AAADAFbBAAAAFEGb\n",
              "4EmoQWyZTAgl//61KoAAAB6xAAAAEkGeHkUVLBD/AAARVtlLEKmIlQAAAAwBnj10Q/8AAAMAVsAA\n",
              "AAAMAZ4/akP/AAADAFbBAAAAFUGaI0moQWyZTAh///6plgAAAwDwgAAAABJBnkFFFSwQ/wAAEVbZ\n",
              "SxCpiJUAAAAMAZ5iakP/AAADAFbAAAAH1m1vb3YAAABsbXZoZAAAAAAAAAAAAAAAAAAAA+gAAE4g\n",
              "AAEAAAEAAAAAAAAAAAAAAAABAAAAAAAAAAAAAAAAAAAAAQAAAAAAAAAAAAAAAAAAQAAAAAAAAAAA\n",
              "AAAAAAAAAAAAAAAAAAAAAAAAAAAAAAIAAAcAdHJhawAAAFx0a2hkAAAAAwAAAAAAAAAAAAAAAQAA\n",
              "AAAAAE4gAAAAAAAAAAAAAAAAAAAAAAABAAAAAAAAAAAAAAAAAAAAAQAAAAAAAAAAAAAAAAAAQAAA\n",
              "AAGwAAABIAAAAAAAJGVkdHMAAAAcZWxzdAAAAAAAAAABAABOIAAAEAAAAQAAAAAGeG1kaWEAAAAg\n",
              "bWRoZAAAAAAAAAAAAAAAAAAAKAAAAyAAVcQAAAAAAC1oZGxyAAAAAAAAAAB2aWRlAAAAAAAAAAAA\n",
              "AAAAVmlkZW9IYW5kbGVyAAAABiNtaW5mAAAAFHZtaGQAAAABAAAAAAAAAAAAAAAkZGluZgAAABxk\n",
              "cmVmAAAAAAAAAAEAAAAMdXJsIAAAAAEAAAXjc3RibAAAALNzdHNkAAAAAAAAAAEAAACjYXZjMQAA\n",
              "AAAAAAABAAAAAAAAAAAAAAAAAAAAAAGwASAASAAAAEgAAAAAAAAAAQAAAAAAAAAAAAAAAAAAAAAA\n",
              "AAAAAAAAAAAAAAAAAAAAABj//wAAADFhdmNDAWQAFf/hABhnZAAVrNlBsJaEAAADAAQAAAMAKDxY\n",
              "tlgBAAZo6+PLIsAAAAAcdXVpZGtoQPJfJE/FujmlG88DI/MAAAAAAAAAGHN0dHMAAAAAAAAAAQAA\n",
              "AGQAAAgAAAAAFHN0c3MAAAAAAAAAAQAAAAEAAAMoY3R0cwAAAAAAAABjAAAAAQAAEAAAAAABAAAo\n",
              "AAAAAAEAABAAAAAAAQAAAAAAAAABAAAIAAAAAAEAACgAAAAAAQAAEAAAAAABAAAAAAAAAAEAAAgA\n",
              "AAAAAQAAKAAAAAABAAAQAAAAAAEAAAAAAAAAAQAACAAAAAABAAAoAAAAAAEAABAAAAAAAQAAAAAA\n",
              "AAABAAAIAAAAAAEAACgAAAAAAQAAEAAAAAABAAAAAAAAAAEAAAgAAAAAAQAAKAAAAAABAAAQAAAA\n",
              "AAEAAAAAAAAAAQAACAAAAAABAAAoAAAAAAEAABAAAAAAAQAAAAAAAAABAAAIAAAAAAEAACgAAAAA\n",
              "AQAAEAAAAAABAAAAAAAAAAEAAAgAAAAAAQAAKAAAAAABAAAQAAAAAAEAAAAAAAAAAQAACAAAAAAB\n",
              "AAAoAAAAAAEAABAAAAAAAQAAAAAAAAABAAAIAAAAAAEAACgAAAAAAQAAEAAAAAABAAAAAAAAAAEA\n",
              "AAgAAAAAAQAAKAAAAAABAAAQAAAAAAEAAAAAAAAAAQAACAAAAAABAAAoAAAAAAEAABAAAAAAAQAA\n",
              "AAAAAAABAAAIAAAAAAEAACgAAAAAAQAAEAAAAAABAAAAAAAAAAEAAAgAAAAAAQAAKAAAAAABAAAQ\n",
              "AAAAAAEAAAAAAAAAAQAACAAAAAABAAAoAAAAAAEAABAAAAAAAQAAAAAAAAABAAAIAAAAAAEAACgA\n",
              "AAAAAQAAEAAAAAABAAAAAAAAAAEAAAgAAAAAAQAAKAAAAAABAAAQAAAAAAEAAAAAAAAAAQAACAAA\n",
              "AAABAAAoAAAAAAEAABAAAAAAAQAAAAAAAAABAAAIAAAAAAEAACgAAAAAAQAAEAAAAAABAAAAAAAA\n",
              "AAEAAAgAAAAAAQAAKAAAAAABAAAQAAAAAAEAAAAAAAAAAQAACAAAAAABAAAoAAAAAAEAABAAAAAA\n",
              "AQAAAAAAAAABAAAIAAAAAAEAACgAAAAAAQAAEAAAAAABAAAAAAAAAAEAAAgAAAAAAQAAKAAAAAAB\n",
              "AAAQAAAAAAEAAAAAAAAAAQAACAAAAAABAAAgAAAAAAIAAAgAAAAAHHN0c2MAAAAAAAAAAQAAAAEA\n",
              "AABkAAAAAQAAAaRzdHN6AAAAAAAAAAAAAABkAAAS6QAAAGgAAAASAAAAEAAAABAAAABFAAAAEgAA\n",
              "ABAAAAAQAAAARAAAABIAAAAQAAAAEAAAADcAAAASAAAAEAAAABAAAABCAAAAEgAAABAAAAAQAAAA\n",
              "NQAAABIAAAAQAAAAEAAAAEAAAAASAAAAEAAAABAAAAA2AAAAEgAAABAAAAAQAAAAIAAAABYAAAAQ\n",
              "AAAAEAAAADoAAAAWAAAAEAAAABAAAAAkAAAAFgAAABAAAAAQAAAAMAAAABYAAAAQAAAAEAAAACYA\n",
              "AAAWAAAAEAAAABAAAABIAAAAFgAAABAAAAAQAAAAGAAAABYAAAAQAAAAEAAAABgAAAAWAAAAEAAA\n",
              "ABAAAAAtAAAAFgAAABAAAAAQAAAALAAAABYAAAAQAAAAEAAAACEAAAAWAAAAEAAAABAAAAAtAAAA\n",
              "FgAAABAAAAAQAAAAKQAAABYAAAAQAAAAEAAAACIAAAAWAAAAEAAAABAAAAAfAAAAFgAAABAAAAAQ\n",
              "AAAAGAAAABYAAAAQAAAAEAAAABkAAAAWAAAAEAAAABRzdGNvAAAAAAAAAAEAAAAsAAAAYnVkdGEA\n",
              "AABabWV0YQAAAAAAAAAhaGRscgAAAAAAAAAAbWRpcmFwcGwAAAAAAAAAAAAAAAAtaWxzdAAAACWp\n",
              "dG9vAAAAHWRhdGEAAAABAAAAAExhdmY1Ny44My4xMDA=\n",
              "\">\n",
              "  Your browser does not support the video tag.\n",
              "</video>"
            ],
            "text/plain": [
              "<IPython.core.display.HTML object>"
            ]
          },
          "metadata": {
            "tags": []
          },
          "execution_count": 55
        }
      ]
    }
  ]
}